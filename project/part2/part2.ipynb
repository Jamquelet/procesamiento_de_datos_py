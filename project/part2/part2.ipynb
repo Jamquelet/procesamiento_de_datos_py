{
 "cells": [
  {
   "cell_type": "markdown",
   "metadata": {},
   "source": [
    "# Parte 2: Carga de datos\n",
    "Continuando con la anterior sección del proyecto integrador, ahora debes realizar lo siguiente:\n",
    "\n",
    "Convertir la estructura Dataset en un DataFrame de Pandas usando pd.DataFrame.\n",
    "Separar el dataframe en dos diferentes, uno conteniendo las filas con personas que perecieron (is_dead=1) y otro con el complemento.\n",
    "Calcular los promedios de las edades de cada dataset e imprimir."
   ]
  },
  {
   "cell_type": "code",
   "execution_count": 1,
   "metadata": {},
   "outputs": [
    {
     "name": "stderr",
     "output_type": "stream",
     "text": [
      "/home/josephm/anaconda3/envs/python_ada/lib/python3.11/site-packages/tqdm/auto.py:21: TqdmWarning: IProgress not found. Please update jupyter and ipywidgets. See https://ipywidgets.readthedocs.io/en/stable/user_install.html\n",
      "  from .autonotebook import tqdm as notebook_tqdm\n"
     ]
    },
    {
     "name": "stdout",
     "output_type": "stream",
     "text": [
      "Promedio de edades de las personas fallecidas: 65.20833333333333\n",
      "Promedio de edades de las personas no fallecidas: 58.758620689655174\n"
     ]
    }
   ],
   "source": [
    "import pandas as pd\n",
    "from datasets import load_dataset\n",
    "\n",
    "# Cargar el dataset\n",
    "dataset = load_dataset(\"mstz/heart_failure\")\n",
    "data = dataset[\"train\"]\n",
    "\n",
    "# Crear un DataFrame de Pandas a partir del dataset\n",
    "df = pd.DataFrame(data)\n",
    "\n",
    "# Filtrar filas donde is_dead es 1 (fallecidos) y 0 (no fallecidos)\n",
    "fallecidos = df[df['is_dead'] == 1]\n",
    "no_fallecidos = df[df['is_dead'] == 0]\n",
    "\n",
    "# Calcular el promedio de edades en cada dataset\n",
    "promedio_edades_fallecidos = fallecidos['age'].mean()\n",
    "promedio_edades_no_fallecidos = no_fallecidos['age'].mean()\n",
    "\n",
    "# Imprimir los promedios de edades\n",
    "print(\"Promedio de edades de las personas fallecidas:\", promedio_edades_fallecidos)\n",
    "print(\"Promedio de edades de las personas no fallecidas:\", promedio_edades_no_fallecidos)\n"
   ]
  }
 ],
 "metadata": {
  "kernelspec": {
   "display_name": "python_ada",
   "language": "python",
   "name": "python3"
  },
  "language_info": {
   "codemirror_mode": {
    "name": "ipython",
    "version": 3
   },
   "file_extension": ".py",
   "mimetype": "text/x-python",
   "name": "python",
   "nbconvert_exporter": "python",
   "pygments_lexer": "ipython3",
   "version": "3.11.4"
  }
 },
 "nbformat": 4,
 "nbformat_minor": 2
}
