{
 "cells": [
  {
   "cell_type": "markdown",
   "metadata": {},
   "source": [
    "Parte 9: Analizando distribuciones 3\n",
    "Para esta sección usaremos una técnica de reducción de dimensionalidad (https://en.wikipedia.org/wiki/T-distributed_stochastic_neighbor_embedding#:~:text=t%2Ddistributed%20stochastic%20neighbor%20embedding%20(t%2DSNE)%20is,two%20or%20three%2Ddimensional%20map.) para tratar de visualizar aproximadamente la estructura de nuestros datos.\n",
    "\n",
    "Los pasos a seguir para lograrlo son (partiendo del DataFrame anterior):\n",
    "\n",
    "Exportar la una matriz con sólo los valores de los atributos en formato de numpy array\n",
    "Para esto deberás usar df.drop(columns[<columna-objetivo>]) para eliminar la colúmna que contiene la información si la persona murió o no, también elimina categoria_edad.\n",
    "Puedes convertir un dataframe a un numpy array con su atributo df.values.\n",
    "Exportar un array unidimensional y de sólo la colúmna objetivo DEATH_EVENT.\n",
    "Ejecutar el siguiente fragmento de código (puede demorar unos segundos dependiendo de la capacidad de cómputo de tu PC)\n",
    "X_embedded = TSNE(\n",
    "    n_components=3,\n",
    "    learning_rate='auto',\n",
    "    init='random',\n",
    "    perplexity=3\n",
    ").fit_transform(X)\n",
    "dónde X_embedded es un NumPy array de (299, 3)\n",
    "Realizar un gráfico de dispersión 3D con Plotly donde los puntos de cada clase (vivo o muerto) tienen un color asignado para así poder diferenciarlos. (Para esto debes usar el vector y)"
   ]
  },
  {
   "cell_type": "code",
   "execution_count": null,
   "metadata": {},
   "outputs": [],
   "source": [
    "#reducción de dimensionalidad y crear un gráfico de dispersión 3D con Plotly\n",
    "\n",
    "import pandas as pd\n",
    "import numpy as np\n",
    "import plotly.express as px\n",
    "from sklearn.manifold import TSNE\n",
    "\n",
    "df = pd.DataFrame()\n",
    "\n",
    "# Eliminar columnas no necesarias y convertir a un numpy array\n",
    "X = df.drop(columns=['DEATH_EVENT', 'categoria_edad']).values\n",
    "\n",
    "# Exportar un array unidimensional de la columna objetivo\n",
    "y = df['DEATH_EVENT'].values\n",
    "\n",
    "# Realizar la reducción de dimensionalidad con t-SNE\n",
    "X_embedded = TSNE(n_components=3, learning_rate='auto', init='random', perplexity=3).fit_transform(X)\n",
    "\n",
    "# Crear un DataFrame con los resultados de la reducción de dimensionalidad y la columna objetivo\n",
    "df_tsne = pd.DataFrame(data={'Dimension_1': X_embedded[:, 0], 'Dimension_2': X_embedded[:, 1], 'Dimension_3': X_embedded[:, 2], 'DEATH_EVENT': y})\n",
    "\n",
    "# Crear el gráfico de dispersión 3D con Plotly\n",
    "fig = px.scatter_3d(df_tsne, x='Dimension_1', y='Dimension_2', z='Dimension_3', color='DEATH_EVENT', title='Reducción de Dimensionalidad con t-SNE')\n",
    "fig.show()\n"
   ]
  },
  {
   "cell_type": "markdown",
   "metadata": {},
   "source": [
    "se utiliza t-SNE para reducir la dimensionalidad a 3 dimensiones. Luego, se crea un DataFrame con los resultados de la reducción y la columna objetivo (DEATH_EVENT). Finalmente, se utiliza Plotly Express para crear un gráfico de dispersión 3D donde los puntos de cada clase (vivo o muerto) tienen un color asignado.\n",
    "\n",
    "t-SNE es un algoritmo estocástico, por lo que los resultados pueden variar en diferentes ejecuciones."
   ]
  },
  {
   "cell_type": "markdown",
   "metadata": {},
   "source": []
  },
  {
   "cell_type": "code",
   "execution_count": null,
   "metadata": {},
   "outputs": [],
   "source": []
  }
 ],
 "metadata": {
  "language_info": {
   "name": "python"
  }
 },
 "nbformat": 4,
 "nbformat_minor": 2
}
