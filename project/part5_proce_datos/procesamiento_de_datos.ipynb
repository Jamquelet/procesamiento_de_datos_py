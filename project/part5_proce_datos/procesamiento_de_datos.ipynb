{
 "cells": [
  {
   "cell_type": "markdown",
   "metadata": {},
   "source": [
    "Parte 5: Limpieza y preparación de datos\n",
    "Una vez cargado el csv mediante el request anterior (part4 API), realiza lo siguiente:\n",
    "\n",
    "1.Verificar que no existan valores faltantes\n",
    "2.Verificar que no existan filas repetidas\n",
    "3.Verificar si existen valores atípicos y eliminarlos\n",
    "4.Crear una columna que categorice por edades\n",
    "0-12: Niño\n",
    "13-19: Adolescente\n",
    "20-39: Jóvenes adulto\n",
    "40-59: Adulto\n",
    "60-...: Adulto mayor\n",
    "5.Guardar el resultado como csv\n",
    "Encapsula toda la lógica anterior en una función que reciba un dataframe como entrada."
   ]
  },
  {
   "cell_type": "code",
   "execution_count": null,
   "metadata": {},
   "outputs": [],
   "source": [
    "import pandas as pd\n",
    "\n",
    "def limpiar_y_preparar_datos(dataframe):\n",
    "    # Verificar valores faltantes\n",
    "    if dataframe.isnull().any().any():\n",
    "        print(\"Existen valores faltantes. Realiza la imputación o eliminación según sea necesario.\")\n",
    "    \n",
    "    # Verificar filas duplicadas\n",
    "    if dataframe.duplicated().any():\n",
    "        dataframe = dataframe.drop_duplicates()\n",
    "        print(\"Se eliminaron filas duplicadas.\")\n",
    "    \n",
    "    # Verificar y eliminar valores atípicos\n",
    "    # columna 'edad' eliminar valores atípicos\n",
    "    columna_edad = 'age'\n",
    "    limite_inferior = 0\n",
    "    limite_superior = 100\n",
    "    dataframe = dataframe[(dataframe[columna_edad] >= limite_inferior) & (dataframe[columna_edad] <= limite_superior)]\n",
    "    print(\"Se eliminaron valores atípicos.\")\n",
    "    \n",
    "    # Crear columna de categorías por edades\n",
    "    bins = [0, 12, 19, 39, 59, float('inf')]\n",
    "    etiquetas = ['Niño', 'Adolescente', 'Jóvenes adulto', 'Adulto', 'Adulto mayor']\n",
    "    dataframe['categoria_edad'] = pd.cut(dataframe[columna_edad], bins=bins, labels=etiquetas, right=False)\n",
    "    \n",
    "    # Guardar el resultado como CSV\n",
    "    dataframe.to_csv('datos_limpios.csv', index=False)\n",
    "    print(\"Los datos limpios han sido guardados en 'datos_limpios.csv'.\")\n",
    "\n",
    "# Ejemplo de uso con un DataFrame cargado desde el CSV descargado previamente\n",
    "url_descarga = 'https://huggingface.co/datasets/mstz/heart_failure/raw/main/heart_failure_clinical_records_dataset.csv'\n",
    "nombre_archivo_descargado = 'datos_descargados.csv'\n",
    "dataframe_descargado = pd.read_csv(nombre_archivo_descargado)\n",
    "\n",
    "# Llamada a la función\n",
    "limpiar_y_preparar_datos(dataframe_descargado)\n"
   ]
  },
  {
   "cell_type": "code",
   "execution_count": null,
   "metadata": {},
   "outputs": [],
   "source": []
  }
 ],
 "metadata": {
  "language_info": {
   "name": "python"
  }
 },
 "nbformat": 4,
 "nbformat_minor": 2
}
