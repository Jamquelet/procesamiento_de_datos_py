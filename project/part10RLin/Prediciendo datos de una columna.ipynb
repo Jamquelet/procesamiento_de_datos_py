{
 "cells": [
  {
   "cell_type": "markdown",
   "metadata": {},
   "source": [
    "Parte 10: Prediciendo datos de una columna\n",
    "Imagina que tenemos datos faltantes en la colúmna de edades, podríamos usar un modelo para estimar los valores faltantes en base a las otras colúmnas.\n",
    "\n",
    "Para este laboratorio:\n",
    "\n",
    "Elimina las colúmnas DEATH_EVENT, age y categoria_edad del dataframe para que sea la matriz X\n",
    "Ajusta una regresión lineal sobre el resto de colúmnas y usa la colúmna age como vector y\n",
    "Predice las edades y compara con las edades reales\n",
    "Calcula el error cuadrático medio."
   ]
  },
  {
   "cell_type": "code",
   "execution_count": null,
   "metadata": {},
   "outputs": [],
   "source": [
    "import pandas as pd\n",
    "from sklearn.model_selection import train_test_split\n",
    "from sklearn.linear_model import LinearRegression\n",
    "from sklearn.metrics import mean_squared_error\n",
    "\n",
    "df = pd.DataFrame()\n",
    "\n",
    "# Eliminar las columnas DEATH_EVENT, age y categoria_edad del DataFrame para obtener la matriz X\n",
    "X = df.drop(columns=['DEATH_EVENT', 'age', 'categoria_edad'])\n",
    "\n",
    "# Separar los datos en conjunto de entrenamiento y conjunto de prueba\n",
    "X_train, X_test, y_train, y_test = train_test_split(X, df['age'], test_size=0.2, random_state=42)\n",
    "\n",
    "# Inicializar y ajustar el modelo de regresión lineal\n",
    "model = LinearRegression()\n",
    "model.fit(X_train, y_train)\n",
    "\n",
    "# Predecir las edades en el conjunto de prueba\n",
    "y_pred = model.predict(X_test)\n",
    "\n",
    "# Calcular el error cuadrático medio\n",
    "mse = mean_squared_error(y_test, y_pred)\n",
    "print(f\"Error Cuadrático Medio: {mse}\")\n",
    "\n",
    "# Comparar las edades reales con las predicciones\n",
    "comparison_df = pd.DataFrame({'Real': y_test, 'Predicción': y_pred})\n",
    "print(comparison_df)\n"
   ]
  },
  {
   "cell_type": "markdown",
   "metadata": {},
   "source": [
    "modelo de regresión lineal para predecir las edades en base al resto de las columnas. El error cuadrático medio (MSE) se utiliza como métrica para evaluar la precisión del modelo."
   ]
  },
  {
   "cell_type": "code",
   "execution_count": null,
   "metadata": {},
   "outputs": [],
   "source": []
  }
 ],
 "metadata": {
  "language_info": {
   "name": "python"
  }
 },
 "nbformat": 4,
 "nbformat_minor": 2
}
