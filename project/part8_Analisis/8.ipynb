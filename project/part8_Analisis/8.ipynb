{
 "cells": [
  {
   "cell_type": "markdown",
   "metadata": {},
   "source": [
    "Parte 8: Analizando distribuciones 2\n",
    "Usando el mismo DataFrame, realiza una gráfica usando subplots, que contenga gráficas de torta que represente las distribuciones de:\n",
    "\n",
    "Cantidad de anémicos\n",
    "Cantidad de diabéticos\n",
    "Cantidad de fumadores\n",
    "Cantidad de muertos\n",
    "La grafica debe verse similar a esta (no es necesario el mismo color)"
   ]
  },
  {
   "cell_type": "code",
   "execution_count": null,
   "metadata": {},
   "outputs": [],
   "source": [
    "import pandas as pd\n",
    "import matplotlib.pyplot as plt\n",
    "\n",
    "df = pd.DataFrame()\n",
    "\n",
    "# Crear subplots para las gráficas de torta\n",
    "fig, axs = plt.subplots(2, 2, figsize=(12, 10))\n",
    "fig.suptitle('Distribuciones de Anémicos, Diabéticos, Fumadores y Fallecidos')\n",
    "\n",
    "# Gráfica de torta para cantidad de anémicos\n",
    "anemico_counts = df['Anémico'].value_counts()\n",
    "axs[0, 0].pie(anemico_counts, labels=anemico_counts.index, autopct='%1.1f%%', startangle=90, colors=['skyblue', 'lightcoral'])\n",
    "axs[0, 0].set_title('Distribución de Anémicos')\n",
    "\n",
    "# Gráfica de torta para cantidad de diabéticos\n",
    "diabetico_counts = df['Diabético'].value_counts()\n",
    "axs[0, 1].pie(diabetico_counts, labels=diabetico_counts.index, autopct='%1.1f%%', startangle=90, colors=['skyblue', 'lightcoral'])\n",
    "axs[0, 1].set_title('Distribución de Diabéticos')\n",
    "\n",
    "# Gráfica de torta para cantidad de fumadores\n",
    "fumador_counts = df['Fumador'].value_counts()\n",
    "axs[1, 0].pie(fumador_counts, labels=fumador_counts.index, autopct='%1.1f%%', startangle=90, colors=['skyblue', 'lightcoral'])\n",
    "axs[1, 0].set_title('Distribución de Fumadores')\n",
    "\n",
    "# Gráfica de torta para cantidad de fallecidos\n",
    "fallecido_counts = df['Fallecido'].value_counts()\n",
    "axs[1, 1].pie(fallecido_counts, labels=fallecido_counts.index, autopct='%1.1f%%', startangle=90, colors=['skyblue', 'lightcoral'])\n",
    "axs[1, 1].set_title('Distribución de Fallecidos')\n",
    "\n",
    "plt.show()\n"
   ]
  },
  {
   "cell_type": "code",
   "execution_count": null,
   "metadata": {},
   "outputs": [],
   "source": []
  }
 ],
 "metadata": {
  "language_info": {
   "name": "python"
  }
 },
 "nbformat": 4,
 "nbformat_minor": 2
}
