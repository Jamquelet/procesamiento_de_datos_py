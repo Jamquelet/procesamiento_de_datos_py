{
 "cells": [
  {
   "cell_type": "markdown",
   "metadata": {},
   "source": [
    "Parte 6: Automatizando el proceso\n",
    "Imagina que los datos que procesaste en anteriores etapas del proyecto integrador se van actualizando cada cierto tiempo, (manteniendo el formato) y la url siempre va apuntando a la versión más actual, en este caso conviene tener automatizado el procesamiento en un script que puedas llamar y siempre te dé un csv limpio y listo para su análisis.\n",
    "\n",
    "Tu tarea en esta etapa del proyecto consiste en crear un script (un archivo .py) que realice todas las operaciones vistas hasta ahora (desde el módulo de APIS) que al ejecutarse\n",
    "\n",
    "-Descargue los datos desde una url\n",
    "-Convierta todo a un dataframe\n",
    "-Categorice en grupos\n",
    "-Exporte un csv resultante\n",
    "La url no debe estar definida como una constante en el código, en su lugar usa argumentos por terminal (revisar este enlace: https://www.geeksforgeeks.org/how-to-use-sys-argv-in-python/) para enviarle la url al programa al ejecutarlo."
   ]
  },
  {
   "cell_type": "code",
   "execution_count": null,
   "metadata": {},
   "outputs": [],
   "source": [
    "import sys\n",
    "import pandas as pd\n",
    "import requests\n",
    "\n",
    "def descargar_y_procesar_datos(url):\n",
    "    # Descargar datos desde la URL\n",
    "    respuesta = requests.get(url)\n",
    "    \n",
    "    # Verificar si la descarga fue exitosa (código 200)\n",
    "    if respuesta.status_code == 200:\n",
    "        # Convertir la respuesta a un DataFrame\n",
    "        dataframe = pd.read_csv(pd.compat.StringIO(respuesta.text), sep=';')\n",
    "        \n",
    "        # Realizar las operaciones de limpieza y preparación de datos\n",
    "        # (Aquí puedes incluir las funciones ej_3_limpiar_datos y ej_4_crear_categoria_edades que definiste anteriormente)\n",
    "\n",
    "        # Guardar el resultado como CSV\n",
    "        dataframe.to_csv('datos_procesados.csv', index=False)\n",
    "        print(\"Los datos fueron procesados y guardados en 'datos_procesados.csv'.\")\n",
    "    else:\n",
    "        print(f\"Error al descargar los datos. Código de respuesta: {respuesta.status_code}\")\n",
    "\n",
    "if __name__ == \"__main__\":\n",
    "    # Verificar si se proporciona la URL como argumento de línea de comandos\n",
    "    if len(sys.argv) != 2:\n",
    "        print(\"Por favor, proporcione la URL como argumento de línea de comandos.\")\n",
    "    else:\n",
    "        url_argumento = sys.argv[1]\n",
    "        descargar_y_procesar_datos(url_argumento)\n"
   ]
  },
  {
   "cell_type": "markdown",
   "metadata": {},
   "source": [
    "Para ejecutar este script desde la línea de comandos, simplemente proporciona la URL como argumento:\n",
    "\n",
    "python script_procesamiento.py https://nueva.url/datos.csv\n",
    "\n",
    "Este script descargaría los datos desde la URL proporcionada, realizaría las operaciones de limpieza y preparación, y guardaría el resultado en un nuevo archivo CSV llamado 'datos_procesados.csv'."
   ]
  },
  {
   "cell_type": "code",
   "execution_count": null,
   "metadata": {},
   "outputs": [],
   "source": []
  }
 ],
 "metadata": {
  "kernelspec": {
   "display_name": "python_ada",
   "language": "python",
   "name": "python3"
  },
  "language_info": {
   "name": "python",
   "version": "3.11.4"
  }
 },
 "nbformat": 4,
 "nbformat_minor": 2
}
