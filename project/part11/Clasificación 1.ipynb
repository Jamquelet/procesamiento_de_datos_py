{
 "cells": [
  {
   "cell_type": "markdown",
   "metadata": {},
   "source": [
    "Parte 11: Clasificación 1\n",
    "Ahora vamos a empezar a usar el dataset para lo que fue creado, ajustar un modelo de clasificación.\n",
    "\n",
    "Grafica la distribución de clases (con la librería de tu preferencia) para analizar si este dataset está balanceado o no\n",
    "Realiza la partición del dataset en conjunto de entrenamiento y test\n",
    "Esta partición debe ser estratificada\n",
    "Para lograrlo debes usar el parámetro como stratify=y en la función train_test_split\n",
    "Ajusta un árbol de decisión y calcula el accuracy sobre el conjunto de test.\n",
    "Trata de mover los valores de los parámetros para lograr la mayor accuracy que puedas.\n",
    "Nota:\n",
    "\n",
    "No olvides eliminar la colúmna categoria_edad."
   ]
  },
  {
   "cell_type": "code",
   "execution_count": null,
   "metadata": {},
   "outputs": [],
   "source": [
    "#Utilizaré la biblioteca matplotlib para la visualización y scikit-learn para la partición y el modelo de árbol de decisión\n",
    "\n",
    "import pandas as pd\n",
    "import matplotlib.pyplot as plt\n",
    "from sklearn.model_selection import train_test_split\n",
    "from sklearn.tree import DecisionTreeClassifier\n",
    "from sklearn.metrics import accuracy_score\n",
    "\n",
    "df = pd.DataFrame()\n",
    "\n",
    "# Eliminar la columna categoria_edad\n",
    "df = df.drop(columns=['categoria_edad'])\n",
    "\n",
    "# Graficar la distribución de clases\n",
    "plt.figure(figsize=(8, 6))\n",
    "df['DEATH_EVENT'].value_counts().plot(kind='bar', color=['skyblue', 'lightcoral'])\n",
    "plt.title('Distribución de Clases')\n",
    "plt.xlabel('DEATH_EVENT')\n",
    "plt.ylabel('Cantidad')\n",
    "plt.xticks(rotation=0)\n",
    "plt.show()\n",
    "\n",
    "# Partición estratificada del dataset en conjunto de entrenamiento y test\n",
    "X = df.drop(columns=['DEATH_EVENT'])\n",
    "y = df['DEATH_EVENT']\n",
    "X_train, X_test, y_train, y_test = train_test_split(X, y, test_size=0.2, stratify=y, random_state=42)\n",
    "\n",
    "# Ajustar un árbol de decisión\n",
    "model = DecisionTreeClassifier(max_depth=3, random_state=42)  # Puedes ajustar max_depth y otros parámetros\n",
    "model.fit(X_train, y_train)\n",
    "\n",
    "# Realizar predicciones en el conjunto de test\n",
    "y_pred = model.predict(X_test)\n",
    "\n",
    "# Calcular la accuracy\n",
    "accuracy = accuracy_score(y_test, y_pred)\n",
    "print(f\"Accuracy: {accuracy}\")\n"
   ]
  },
  {
   "cell_type": "markdown",
   "metadata": {},
   "source": [
    "Elimina la columna categoria_edad.\n",
    "Grafica la distribución de clases utilizando un gráfico de barras.\n",
    "Realiza una partición estratificada del dataset en conjuntos de entrenamiento y prueba.\n",
    "Ajusta un modelo de árbol de decisión.\n",
    "Realiza predicciones en el conjunto de prueba.\n",
    "Calcula la accuracy del modelo.\n"
   ]
  },
  {
   "cell_type": "code",
   "execution_count": null,
   "metadata": {},
   "outputs": [],
   "source": []
  }
 ],
 "metadata": {
  "language_info": {
   "name": "python"
  }
 },
 "nbformat": 4,
 "nbformat_minor": 2
}
