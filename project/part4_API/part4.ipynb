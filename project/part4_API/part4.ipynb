{
 "cells": [
  {
   "cell_type": "markdown",
   "metadata": {},
   "source": [
    "Parte 4: Procesando información en bruto\n",
    "Imagina que no tuvieramos el acceso fácil de estos datos a través de la librería y tuvieramos que descargar los datos usando requests.\n",
    "\n",
    "Los datos son accesibles en esta dirección\n",
    "\n",
    "1.Realiza un GET request para descargarlos y escribe la respuesta como un archivo de texto plano con extensión csv (no necesitas pandas para esto, sólo manipulación de archivos nativa de Python)\n",
    "2.Agrupa el código para esto en una función reutilizable que reciba como argumento la url."
   ]
  },
  {
   "cell_type": "code",
   "execution_count": 1,
   "metadata": {},
   "outputs": [
    {
     "name": "stdout",
     "output_type": "stream",
     "text": [
      "Los datos fueron descargados exitosamente y guardados en datos_descargados.csv.\n"
     ]
    }
   ],
   "source": [
    "import requests\n",
    "\n",
    "def descargar_y_guardar_csv(url, archivo_csv):\n",
    "    # Realizar GET request\n",
    "    respuesta = requests.get(url)\n",
    "    \n",
    "    # Verificar si la descarga fue exitosa (código 200)\n",
    "    if respuesta.status_code == 200:\n",
    "        # Guardar la respuesta en un archivo CSV\n",
    "        with open(archivo_csv, 'w') as archivo:\n",
    "            archivo.write(respuesta.text)\n",
    "        print(f\"Los datos fueron descargados exitosamente y guardados en {archivo_csv}.\")\n",
    "    else:\n",
    "        print(f\"Error al descargar los datos. Código de respuesta: {respuesta.status_code}\")\n",
    "\n",
    "# Ejemplo de uso\n",
    "url_ejemplo = 'https://huggingface.co/datasets/mstz/heart_failure/raw/main/heart_failure_clinical_records_dataset.csv'\n",
    "nombre_archivo = 'datos_descargados.csv'\n",
    "descargar_y_guardar_csv(url_ejemplo, nombre_archivo)\n"
   ]
  },
  {
   "cell_type": "markdown",
   "metadata": {},
   "source": [
    "Se puede utilizar esta función con cualquier URL que contenga datos en formato CSV. Solo necesitas proporcionar la URL y el nombre que deseas darle al archivo."
   ]
  },
  {
   "cell_type": "code",
   "execution_count": null,
   "metadata": {},
   "outputs": [],
   "source": []
  }
 ],
 "metadata": {
  "kernelspec": {
   "display_name": "python_ada",
   "language": "python",
   "name": "python3"
  },
  "language_info": {
   "codemirror_mode": {
    "name": "ipython",
    "version": 3
   },
   "file_extension": ".py",
   "mimetype": "text/x-python",
   "name": "python",
   "nbconvert_exporter": "python",
   "pygments_lexer": "ipython3",
   "version": "3.11.4"
  }
 },
 "nbformat": 4,
 "nbformat_minor": 2
}
