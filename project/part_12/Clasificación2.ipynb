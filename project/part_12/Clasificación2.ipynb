{
 "cells": [
  {
   "cell_type": "markdown",
   "metadata": {},
   "source": [
    "Parte 12: Clasificación 2\n",
    "Sobre el dataset ya particionado en conjuntos de entrenamiento y test, realiza lo siguiente:\n",
    "\n",
    "Ajusta un random forest\n",
    "Calcula su matriz de confusión\n",
    "Calcula F1-Score y compara con el accuracy\n",
    "Crees que el accuracy captura completamente el rendimiento del modelo en este caso o no es suficiente?\n",
    "Trata de cambiar los valores de los parámetros del random forest para conseguir el mejor resultado que puedas.\n",
    "Nota:\n",
    "\n",
    "No olvides eliminar la colúmna categoria_edad.\n",
    "\n",
    "ajustar un modelo de Random Forest sobre el conjunto de entrenamiento y luego evaluar su rendimiento utilizando la matriz de confusión y el F1-Score"
   ]
  },
  {
   "cell_type": "code",
   "execution_count": null,
   "metadata": {},
   "outputs": [],
   "source": [
    "import pandas as pd\n",
    "from sklearn.model_selection import train_test_split\n",
    "from sklearn.ensemble import RandomForestClassifier\n",
    "from sklearn.metrics import confusion_matrix, accuracy_score, f1_score\n",
    "import seaborn as sns\n",
    "import matplotlib.pyplot as plt\n",
    "\n",
    "df = pd.DataFrame()\n",
    "\n",
    "# Eliminar la columna categoria_edad\n",
    "df = df.drop(columns=['categoria_edad'])\n",
    "\n",
    "# Partición estratificada del dataset en conjunto de entrenamiento y test\n",
    "X = df.drop(columns=['DEATH_EVENT'])\n",
    "y = df['DEATH_EVENT']\n",
    "X_train, X_test, y_train, y_test = train_test_split(X, y, test_size=0.2, stratify=y, random_state=42)\n",
    "\n",
    "# Ajustar un Random Forest\n",
    "model = RandomForestClassifier(n_estimators=100, max_depth=3, random_state=42)  # Puedes ajustar n_estimators, max_depth y otros parámetros\n",
    "model.fit(X_train, y_train)\n",
    "\n",
    "# Realizar predicciones en el conjunto de test\n",
    "y_pred = model.predict(X_test)\n",
    "\n",
    "# Calcular la matriz de confusión\n",
    "conf_matrix = confusion_matrix(y_test, y_pred)\n",
    "\n",
    "# Visualizar la matriz de confusión\n",
    "plt.figure(figsize=(8, 6))\n",
    "sns.heatmap(conf_matrix, annot=True, fmt='d', cmap='Blues', cbar=False, annot_kws={'size': 15})\n",
    "plt.title('Matriz de Confusión')\n",
    "plt.xlabel('Predicciones')\n",
    "plt.ylabel('Valores Reales')\n",
    "plt.show()\n",
    "\n",
    "# Calcular el accuracy\n",
    "accuracy = accuracy_score(y_test, y_pred)\n",
    "print(f\"Accuracy: {accuracy}\")\n",
    "\n",
    "# Calcular el F1-Score\n",
    "f1 = f1_score(y_test, y_pred)\n",
    "print(f\"F1-Score: {f1}\")\n",
    "\n",
    "# Comparar accuracy con F1-Score\n",
    "print(\"¿El accuracy captura completamente el rendimiento del modelo?\")\n",
    "print(\"No siempre. El F1-Score puede proporcionar una mejor evaluación en casos de clases desbalanceadas.\")\n",
    "\n",
    "# Experimenta ajustando los parámetros del Random Forest para optimizar el rendimiento\n"
   ]
  },
  {
   "cell_type": "markdown",
   "metadata": {},
   "source": [
    "Elimina la columna categoria_edad.\n",
    "Realiza una partición estratificada del dataset en conjuntos de entrenamiento y prueba.\n",
    "Ajusta un modelo de Random Forest.\n",
    "Realiza predicciones en el conjunto de prueba.\n",
    "Calcula la matriz de confusión y la visualiza.\n",
    "Calcula el accuracy y el F1-Score.\n"
   ]
  },
  {
   "cell_type": "code",
   "execution_count": null,
   "metadata": {},
   "outputs": [],
   "source": []
  }
 ],
 "metadata": {
  "language_info": {
   "name": "python"
  }
 },
 "nbformat": 4,
 "nbformat_minor": 2
}
