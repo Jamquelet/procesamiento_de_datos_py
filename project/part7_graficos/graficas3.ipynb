{
 "cells": [
  {
   "cell_type": "markdown",
   "metadata": {},
   "source": [
    "Sea el siguiente dataset:\n",
    "\n",
    "id\tmateria\tnota\taprobado\n",
    "1\tMatemáticas\t80\tSí\n",
    "2\tHistoria\t65\tNo\n",
    "3\tCiencias\t90\tSí\n",
    "4\tLenguaje\t75\tSí\n",
    "5\tMatemáticas\t95\tSí\n",
    "6\tHistoria\t70\tSí\n",
    "7\tCiencias\t85\tSí\n",
    "8\tLenguaje\t60\tNo\n",
    "9\tMatemáticas\t78\tSí\n",
    "10\tHistoria\t82\tSí\n",
    "11\tCiencias\t93\tSí\n",
    "12\tLenguaje\t68\tSí\n",
    "13\tMatemáticas\t73\tSí\n",
    "14\tHistoria\t88\tSí\n",
    "15\tCiencias\t77\tSí\n",
    "16\tLenguaje\t50\tNo\n",
    "17\tMatemáticas\t92\tSí\n",
    "18\tHistoria\t63\tNo\n",
    "19\tCiencias\t85\tSí\n",
    "20\tLenguaje\t79\tSí\n",
    "\n",
    "1.Cargar el dataset: Lee el dataset de notas de estudiantes en Python y almacénalo en una estructura de datos adecuada, como un DataFrame de Pandas.\n",
    "\n",
    "2.Graficar la distribución de notas con un boxplot: Utiliza Plotly para crear un boxplot que muestre la distribución de notas de los estudiantes. Asegúrate de ajustar los ejes, agregar un título y etiquetas apropiadas para el gráfico que debe tener los 5 elementos en el eje y & las 4 materias en el eje x\n",
    "\n",
    "3.Graficar la distribución de aprobados con un pie chart: Utiliza Plotly para crear un pie chart que muestre la proporción de estudiantes aprobados y no aprobados en el dataset."
   ]
  },
  {
   "cell_type": "code",
   "execution_count": null,
   "metadata": {},
   "outputs": [],
   "source": [
    "import pandas as pd\n",
    "import plotly.express as px\n",
    "\n",
    "\n",
    "# 1. Cargar el dataset\n",
    "data = {\n",
    "    'id': [1, 2, 3, 4, 5, 6, 7, 8, 9, 10, 11, 12, 13, 14, 15, 16, 17, 18, 19, 20],\n",
    "    'materia': ['Matemáticas', 'Historia', 'Ciencias', 'Lenguaje', 'Matemáticas', 'Historia', 'Ciencias', 'Lenguaje', 'Matemáticas', 'Historia', 'Ciencias', 'Lenguaje', 'Matemáticas', 'Historia', 'Ciencias', 'Lenguaje', 'Matemáticas', 'Historia', 'Ciencias', 'Lenguaje'],\n",
    "    'nota': [80, 65, 90, 75, 95, 70, 85, 60, 78, 82, 93, 68, 73, 88, 77, 50, 92, 63, 85, 79],\n",
    "    'aprobado': ['Sí', 'No', 'Sí', 'Sí', 'Sí', 'Sí', 'Sí', 'No', 'Sí', 'Sí', 'Sí', 'Sí', 'Sí', 'Sí', 'Sí', 'No', 'Sí', 'No', 'Sí', 'Sí']\n",
    "}\n",
    "\n",
    "df = pd.DataFrame(data)"
   ]
  },
  {
   "cell_type": "code",
   "execution_count": null,
   "metadata": {},
   "outputs": [],
   "source": [
    "# 2. Graficar la distribución de notas con un boxplot\n",
    "fig = px.box(df, x='materia', y='nota', points=\"all\", title=\"Distribución de Notas por Materia\")\n",
    "fig.update_layout(yaxis=dict(tickvals=[50, 60, 70, 80, 90]))\n",
    "fig.show()"
   ]
  },
  {
   "cell_type": "code",
   "execution_count": null,
   "metadata": {},
   "outputs": [],
   "source": [
    "# 3. Graficar la distribución de aprobados con un pie chart\n",
    "aprobados = df['aprobado'].value_counts()\n",
    "fig = px.pie(aprobados, names=aprobados.index, title=\"Proporción de Estudiantes Aprobados y No Aprobados\")\n",
    "fig.show()"
   ]
  },
  {
   "cell_type": "markdown",
   "metadata": {},
   "source": [
    "utilizamos Plotly Express para crear el boxplot y el pie chart. Ajustamos las etiquetas y configuraciones necesarias para cumplir con tus requisitos. Asegúrate de ejecutar este código en un entorno que admita la visualización de gráficos de Plotly (por ejemplo, en un entorno Jupyter Notebook)."
   ]
  },
  {
   "cell_type": "code",
   "execution_count": null,
   "metadata": {},
   "outputs": [],
   "source": []
  }
 ],
 "metadata": {
  "kernelspec": {
   "display_name": "python_ada",
   "language": "python",
   "name": "python3"
  },
  "language_info": {
   "codemirror_mode": {
    "name": "ipython",
    "version": 3
   },
   "file_extension": ".py",
   "mimetype": "text/x-python",
   "name": "python",
   "nbconvert_exporter": "python",
   "pygments_lexer": "ipython3",
   "version": "3.11.4"
  }
 },
 "nbformat": 4,
 "nbformat_minor": 2
}
