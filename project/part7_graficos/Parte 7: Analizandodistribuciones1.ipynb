{
 "cells": [
  {
   "cell_type": "markdown",
   "metadata": {},
   "source": [
    "Analizando distribuciones 1\n",
    "Una vez tenemos los datos exportados por nuestro script de ETL, podemos proceder a realizar gráficas de análisis. En esta etapa del proyecto usa matplotlib para:\n",
    "\n",
    "Graficar la distribución de edades con un histograma\n",
    "Graficar histogramas agrupado por hombre y mujer:\n",
    "cantidad de anémicos\n",
    "cantidad de diabéticos\n",
    "cantidad de fumadores\n",
    "cantidad de muertos"
   ]
  },
  {
   "cell_type": "code",
   "execution_count": null,
   "metadata": {},
   "outputs": [],
   "source": [
    "import pandas as pd\n",
    "import matplotlib.pyplot as plt\n",
    "\n",
    "# Supongamos que tienes un DataFrame llamado 'df' con tus datos\n",
    "\n",
    "# Graficar la distribución de edades con un histograma\n",
    "plt.figure(figsize=(10, 6))\n",
    "plt.hist(df['Edad'], bins=20, color='skyblue', edgecolor='black')\n",
    "plt.title('Distribución de Edades')\n",
    "plt.xlabel('Edad')\n",
    "plt.ylabel('Frecuencia')\n",
    "plt.grid(True)\n",
    "plt.show()\n",
    "\n",
    "# Graficar histogramas agrupados por hombre y mujer\n",
    "fig, axs = plt.subplots(2, 2, figsize=(12, 10))\n",
    "fig.suptitle('Histogramas agrupados por Género y Condiciones Médicas')\n",
    "\n",
    "# Histograma de anémicos\n",
    "axs[0, 0].hist([df[df['Género'] == 'Hombre']['Anémico'], df[df['Género'] == 'Mujer']['Anémico']],\n",
    "               bins=[0, 1, 2], color=['blue', 'pink'], label=['Hombre', 'Mujer'])\n",
    "axs[0, 0].set_title('Cantidad de Anémicos')\n",
    "axs[0, 0].set_xticks([0, 1])\n",
    "axs[0, 0].set_xticklabels(['No', 'Sí'])\n",
    "axs[0, 0].legend()\n",
    "\n",
    "# Histograma de diabéticos\n",
    "axs[0, 1].hist([df[df['Género'] == 'Hombre']['Diabético'], df[df['Género'] == 'Mujer']['Diabético']],\n",
    "               bins=[0, 1, 2], color=['blue', 'pink'], label=['Hombre', 'Mujer'])\n",
    "axs[0, 1].set_title('Cantidad de Diabéticos')\n",
    "axs[0, 1].set_xticks([0, 1])\n",
    "axs[0, 1].set_xticklabels(['No', 'Sí'])\n",
    "axs[0, 1].legend()\n",
    "\n",
    "# Histograma de fumadores\n",
    "axs[1, 0].hist([df[df['Género'] == 'Hombre']['Fumador'], df[df['Género'] == 'Mujer']['Fumador']],\n",
    "               bins=[0, 1, 2], color=['blue', 'pink'], label=['Hombre', 'Mujer'])\n",
    "axs[1, 0].set_title('Cantidad de Fumadores')\n",
    "axs[1, 0].set_xticks([0, 1])\n",
    "axs[1, 0].set_xticklabels(['No', 'Sí'])\n",
    "axs[1, 0].legend()\n",
    "\n",
    "# Histograma de muertos\n",
    "axs[1, 1].hist([df[df['Género'] == 'Hombre']['Fallecido'], df[df['Género'] == 'Mujer']['Fallecido']],\n",
    "               bins=[0, 1, 2], color=['blue', 'pink'], label=['Hombre', 'Mujer'])\n",
    "axs[1, 1].set_title('Cantidad de Fallecidos')\n",
    "axs[1, 1].set_xticks([0, 1])\n",
    "axs[1, 1].set_xticklabels(['No', 'Sí'])\n",
    "axs[1, 1].legend()\n",
    "\n",
    "plt.show()\n"
   ]
  },
  {
   "cell_type": "code",
   "execution_count": null,
   "metadata": {},
   "outputs": [],
   "source": []
  }
 ],
 "metadata": {
  "language_info": {
   "name": "python"
  }
 },
 "nbformat": 4,
 "nbformat_minor": 2
}
