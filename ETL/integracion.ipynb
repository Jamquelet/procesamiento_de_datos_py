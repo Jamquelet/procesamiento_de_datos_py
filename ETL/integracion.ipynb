{
 "cells": [
  {
   "cell_type": "markdown",
   "metadata": {},
   "source": [
    "Integración\n",
    "\n",
    "Sean los siguientes datasets:\n",
    "\n",
    "Información demográfica por cuidades de EEUU: https://public.opendatasoft.com/explore/dataset/us-cities-demographics/table/?sort=total_population\n",
    "\n",
    "Temperaturas por ciudad: https://www.kaggle.com/datasets/berkeleyearth/climate-change-earth-surface-temperature-data\n",
    "\n",
    "Observemos que podemos procesar y combinar los datos usando pandas para luego responder a preguntas analíticas.\n",
    "\n",
    "Vamos a realizar un pequeño ejercicio de la preparación de los datos:"
   ]
  },
  {
   "cell_type": "code",
   "execution_count": null,
   "metadata": {},
   "outputs": [],
   "source": [
    "#Cargamos los datos de temperaturas y demografía\n",
    "\n",
    "import pandas as pd\n",
    "\n",
    "demographics = pd.read_csv(\"us-cities-demographics.csv\", sep=\";\")\n",
    "temperature = pd.read_csv(\"archive/GlobalLandTemperaturesByCity.csv\", sep=\",\")"
   ]
  },
  {
   "cell_type": "code",
   "execution_count": null,
   "metadata": {},
   "outputs": [],
   "source": [
    "#Seleccionamos sólo las ciudades de EEUU\n",
    "\n",
    "usa_temps = temperature[temperature[\"Country\"] == \"United States\"]\n",
    "usa_temps.head()"
   ]
  },
  {
   "cell_type": "code",
   "execution_count": null,
   "metadata": {},
   "outputs": [],
   "source": [
    "#Calculamos temperaturas: mínimas, máximas y promedio por ciudad\n",
    "aggregated_temps = (\n",
    "    usa_temps\n",
    "    .groupby([\"City\", \"Latitude\", \"Longitude\"])\n",
    "    .agg({\"AverageTemperature\": [\"min\", \"max\", \"mean\"]}, skipna=True)\n",
    ")\n",
    "\n",
    "aggregated_temps = aggregated_temps.round(2).reset_index().sort_values(\"City\")\n",
    "\n",
    "aggregated_temps.columns = aggregated_temps.columns.map(lambda x: x[0] if x[1] == \"\" else x[1])"
   ]
  },
  {
   "cell_type": "code",
   "execution_count": null,
   "metadata": {},
   "outputs": [],
   "source": [
    "#Aplicamos agregaciones para estudiar la pregunta: las ciudades con mayor población tienen en promedio temperaturas altas o bajas?\n",
    "\n",
    "# Seleccionamos las colúmnas importantes de los datos demográficos\n",
    "subset_dems = demographics[[\"City\", \"Total Population\"]].copy()\n",
    "subset_dems.drop_duplicates(inplace=True)\n",
    "\n",
    "merged = pd.merge(aggregated_temps, subset_dems, on=\"City\")\n",
    "\n",
    "# Agrupamos en categorías por rangos de valores\n",
    "agg_df = merged.copy()\n",
    "agg_df['Population_Concentration'] = pd.cut(\n",
    "    agg_df['Total Population'],\n",
    "    bins=[0, 100000, 500000, 1000000, float('inf')],\n",
    "    labels=['Low', 'Moderate', 'High', 'Very High']\n",
    ")\n",
    "\n",
    "agg_df['Temperature_Category'] = pd.cut(\n",
    "    agg_df['mean'],\n",
    "    bins=[float('-inf'), 10, 20, 30, float('inf')],\n",
    "    labels=['Very Cold', 'Cold', 'Warm', 'Hot']\n",
    ")\n",
    "\n",
    "# Aplicamos una ponderación para ordenar por categoría de concentración\n",
    "weights = {\n",
    "    'Low': 1,\n",
    "    'Moderate': 2,\n",
    "    'High': 3,\n",
    "    'Very High': 4\n",
    "}\n",
    "\n",
    "weighted_vals = agg_df['Population_Concentration'].map(weights)\n",
    "agg_df.sort_values(\"Population_Concentration\", ascending=False).head(10)"
   ]
  },
  {
   "cell_type": "markdown",
   "metadata": {},
   "source": [
    "La tabla resultante es:\n",
    "\n",
    "City\tLatitude\tLongitude\tmin\tmax\tmean\tTotal Population\tConcentration\tTemperatura\n",
    "Houston\t29.74N\t96.00W\t4.51\t31.52\t20.23\t2298628\tVery High\tWarm\n",
    "Phoenix\t32.95N\t112.02W\t5.77\t34.38\t21.05\t1563001\tVery High\tWarm\n",
    "San Jose\t37.78N\t122.03W\t4.40\t22.46\t14.45\t1026919\tVery High\tCold\n",
    "San Diego\t32.95N\t117.77W\t8.93\t23.11\t16.12\t1394907\tVery High\tCold\n",
    "San Antonio\t29.74N\t97.85W\t4.02\t32.17\t19.98\t1469824\tVery High\tCold\n",
    "Los Angeles\t34.56N\t118.70W\t4.02\t27.34\t15.88\t3971896\tVery High\tCold\n",
    "New York\t40.99N\t74.56W\t-9.16\t29.14\t9.52\t8550405\tVery High\tVery Cold\n",
    "Chicago\t42.59N\t87.27W\t-8.59\t27.80\t10.07\t2720556\tVery High\tCold\n",
    "Dallas\t32.95N\t96.70W\t-0.07\t33.74\t18.06\t1300082\tVery High\tCold\n",
    "Philadelphia\t39.38N\t74.91W\t-5.67\t30.45\t11.86\t1567442\tVery High\tCold"
   ]
  },
  {
   "cell_type": "code",
   "execution_count": null,
   "metadata": {},
   "outputs": [],
   "source": [
    "La tabla resultante es:\n",
    "\n",
    "City\tLatitude\tLongitude\tmin\tmax\tmean\tTotal Population\tConcentration\tTemperatura\n",
    "Houston\t29.74N\t96.00W\t4.51\t31.52\t20.23\t2298628\tVery High\tWarm\n",
    "Phoenix\t32.95N\t112.02W\t5.77\t34.38\t21.05\t1563001\tVery High\tWarm\n",
    "San Jose\t37.78N\t122.03W\t4.40\t22.46\t14.45\t1026919\tVery High\tCold\n",
    "San Diego\t32.95N\t117.77W\t8.93\t23.11\t16.12\t1394907\tVery High\tCold\n",
    "San Antonio\t29.74N\t97.85W\t4.02\t32.17\t19.98\t1469824\tVery High\tCold\n",
    "Los Angeles\t34.56N\t118.70W\t4.02\t27.34\t15.88\t3971896\tVery High\tCold\n",
    "New York\t40.99N\t74.56W\t-9.16\t29.14\t9.52\t8550405\tVery High\tVery Cold\n",
    "Chicago\t42.59N\t87.27W\t-8.59\t27.80\t10.07\t2720556\tVery High\tCold\n",
    "Dallas\t32.95N\t96.70W\t-0.07\t33.74\t18.06\t1300082\tVery High\tCold\n",
    "Philadelphia\t39.38N\t74.91W\t-5.67\t30.45\t11.86\t1567442\tVery High\tCold"
   ]
  },
  {
   "cell_type": "code",
   "execution_count": null,
   "metadata": {},
   "outputs": [],
   "source": []
  }
 ],
 "metadata": {
  "language_info": {
   "name": "python"
  }
 },
 "nbformat": 4,
 "nbformat_minor": 2
}
