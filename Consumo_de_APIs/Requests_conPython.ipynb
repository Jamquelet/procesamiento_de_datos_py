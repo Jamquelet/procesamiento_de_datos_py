{
 "cells": [
  {
   "cell_type": "markdown",
   "metadata": {},
   "source": [
    "## Requests con Python\n",
    "requests es una libreria de Python ampliamente utilizada y popular para realizar solicitudes HTTP y trabajar con APIs.\n",
    "\n",
    "Puedes instalar la librería requests utilizando el administrador de paquetes pip. Ejecuta el siguiente comando en tu terminal o ventana de comandos:\n",
    "\n",
    "pip install requests\n",
    "\n",
    "conda install request"
   ]
  },
  {
   "cell_type": "markdown",
   "metadata": {},
   "source": [
    "### Consumiendo APIs\n",
    "Para consumir APIs usando python debes:"
   ]
  },
  {
   "cell_type": "code",
   "execution_count": 2,
   "metadata": {},
   "outputs": [
    {
     "name": "stdout",
     "output_type": "stream",
     "text": [
      "\n"
     ]
    }
   ],
   "source": [
    "# 1.Importar bibliotecas: Puedes importarla con el siguiente código:\n",
    "\n",
    "import requests\n",
    "\n",
    "# 2.Hacer solicitudes HTTP: Utilizando la biblioteca requests, puedes realizar solicitudes HTTP a la API deseada. Por ejemplo, para hacer una solicitud GET, puedes utilizar el siguiente código:\n",
    "url = \"\"\n",
    "response = requests.get(url)\n",
    "\n",
    "# 3. Gestionar la respuesta: Una vez que hayas realizado la solicitud, obtendrás una respuesta de la API. Puedes acceder a la respuesta utilizando la variable response. Puedes obtener información como el código de estado, el contenido de la respuesta y los encabezados. Por ejemplo:\n",
    "\n",
    "print(response.status_code)  # Código de estado de la respuesta\n",
    "print(response.json())       # Contenido de la respuesta en formato JSON\n",
    "print(response.headers)      # Encabezados de la respuesta\n",
    "\n",
    "# 4. Enviar datos y parámetros: Para enviar datos en una solicitud POST o PUT, puedes proporcionar los datos en el cuerpo de la solicitud utilizando el parámetro data. También puedes enviar parámetros en la URL utilizando el parámetro params. Por ejemplo:\n",
    "\n",
    "data = {\"name\": \"John\", \"age\": 25}\n",
    "response = requests.post(url, data=data)\n",
    "\n",
    "params = {\"category\": \"books\", \"limit\": 10}\n",
    "response = requests.get(url, params=params)"
   ]
  },
  {
   "cell_type": "markdown",
   "metadata": {},
   "source": [
    "### Ejemplo: Cars API\n",
    "\n",
    "Podemos utilizar la siguiente API para solicitar información de vehículos: https://api-ninjas.com/api/cars"
   ]
  },
  {
   "cell_type": "code",
   "execution_count": 5,
   "metadata": {},
   "outputs": [],
   "source": [
    "# Realizamos la solicitud de datos:\n",
    "\n",
    "import requests\n",
    "\n",
    "model = \"camry\"\n",
    "api_url = f\"https://api.api-ninjas.com/v1/cars?model={model}\"\n",
    "response = requests.get(api_url, headers={'X-Api-Key': 'YOUR_API_KEY'})\n",
    "if response.status_code == requests.codes.ok:\n",
    "    to_df(response.json())"
   ]
  },
  {
   "cell_type": "code",
   "execution_count": null,
   "metadata": {},
   "outputs": [],
   "source": [
    "# Implementamos la función to_df\n",
    "\n",
    "import pandas as pd\n",
    "\n",
    "def to_df(api_data):\n",
    "    df = pd.DataFrame(api_data)\n",
    "    return df\n",
    "\n",
    "#gracias al formato json consistente, pandas es capaz de cargar la información y convertirlo automáticamente a un DataFrame, el cual puede exportarse en el formato tabular deseado."
   ]
  }
 ],
 "metadata": {
  "kernelspec": {
   "display_name": "python_ada",
   "language": "python",
   "name": "python3"
  },
  "language_info": {
   "codemirror_mode": {
    "name": "ipython",
    "version": 3
   },
   "file_extension": ".py",
   "mimetype": "text/x-python",
   "name": "python",
   "nbconvert_exporter": "python",
   "pygments_lexer": "ipython3",
   "version": "3.11.4"
  }
 },
 "nbformat": 4,
 "nbformat_minor": 2
}
