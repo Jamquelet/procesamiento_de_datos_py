{
 "cells": [
  {
   "cell_type": "code",
   "execution_count": 9,
   "metadata": {},
   "outputs": [
    {
     "name": "stdout",
     "output_type": "stream",
     "text": [
      "tamaño del arreglo: 5\n",
      "python tamaño del array 3\n"
     ]
    }
   ],
   "source": [
    "import numpy as np\n",
    "\n",
    "arr = np.array([1,2,3,4,5])\n",
    "print(\"tamaño del arreglo:\", arr.size)\n",
    "\n",
    "array = [1, 2, 3]\n",
    "print(\"python tamaño del array:\", len(array))"
   ]
  },
  {
   "cell_type": "code",
   "execution_count": 7,
   "metadata": {},
   "outputs": [
    {
     "name": "stdout",
     "output_type": "stream",
     "text": [
      "forma del arreglo: (2, 3)\n"
     ]
    }
   ],
   "source": [
    "arr = np.array([[1,2,3], \n",
    "                [4,5,6]])\n",
    "print(\"forma del arreglo:\", arr.shape) #2 filas, 3 columnas"
   ]
  },
  {
   "cell_type": "code",
   "execution_count": 10,
   "metadata": {},
   "outputs": [
    {
     "data": {
      "text/plain": [
       "array([[1, 2],\n",
       "       [3, 4]])"
      ]
     },
     "execution_count": 10,
     "metadata": {},
     "output_type": "execute_result"
    }
   ],
   "source": [
    "np.array([[1,2],[3,4]])"
   ]
  },
  {
   "cell_type": "code",
   "execution_count": 11,
   "metadata": {},
   "outputs": [
    {
     "name": "stdout",
     "output_type": "stream",
     "text": [
      "Consumo de memoria: 48 bytes\n"
     ]
    }
   ],
   "source": [
    "arr = np.array([1,2,3,4,5,6])\n",
    "print(\"Consumo de memoria:\", arr.nbytes, \"bytes\")"
   ]
  },
  {
   "cell_type": "code",
   "execution_count": 16,
   "metadata": {},
   "outputs": [
    {
     "name": "stdout",
     "output_type": "stream",
     "text": [
      "Tipo de datos del arreglo: int64\n",
      "Tipo de datos del arreglo: float64\n"
     ]
    }
   ],
   "source": [
    "arr = np.array([1,2,3,4,5])\n",
    "print(\"Tipo de datos del arreglo:\", arr.dtype)\n",
    "\n",
    "arr = np.array([1.1,2,3,4,5])#con un solo decimal todo el array se vuelve float por consistencia y todos tengan el mismo tipo de datos\n",
    "print(\"Tipo de datos del arreglo:\", arr.dtype)"
   ]
  },
  {
   "cell_type": "code",
   "execution_count": 27,
   "metadata": {},
   "outputs": [
    {
     "name": "stdout",
     "output_type": "stream",
     "text": [
      "elemento posicion 2: 3\n",
      "\n",
      "[[1 2 3]\n",
      " [4 5 6]\n",
      " [7 8 9]]\n",
      "elemento en la posición (2,1): 8\n"
     ]
    }
   ],
   "source": [
    "#indexado unidimensional\n",
    "arr = np.array([1,2,3])\n",
    "print(\"elemento posicion 2:\", arr[2])\n",
    "print()\n",
    "\n",
    "#indexado bidimensional\n",
    "arr = np.array([[1,2,3], [4,5,6], [7,8,9]])\n",
    "print(arr)\n",
    "#arr[0][1] #2 #misma sintaxis\n",
    "print(\"elemento en la posición (2,1):\", arr[2,1])"
   ]
  },
  {
   "cell_type": "code",
   "execution_count": 29,
   "metadata": {},
   "outputs": [
    {
     "name": "stdout",
     "output_type": "stream",
     "text": [
      "arreglo modificado: [ 1  2  0  4  5  6  7  8 11]\n"
     ]
    }
   ],
   "source": [
    "arr = np.array([1,2,3,4,5,6,7,8,9])\n",
    "arr[-1] = 11\n",
    "arr[2] = 0\n",
    "print(\"arreglo modificado:\", arr)"
   ]
  },
  {
   "cell_type": "code",
   "execution_count": 34,
   "metadata": {},
   "outputs": [
    {
     "name": "stdout",
     "output_type": "stream",
     "text": [
      "subarreglo: [2 3 4]\n",
      "subarreglo: [2 4 8]\n"
     ]
    }
   ],
   "source": [
    "#slicing: indexado con rangos start:end:step,  end excluido\n",
    "arr = np.array([1,2,3,4,5])\n",
    "print(\"subarreglo:\", arr[1:4])\n",
    "\n",
    "arr1 = np.array([1,2,3,4,5,8,9,10])\n",
    "print(\"subarreglo:\", arr1[1:-1:2])"
   ]
  },
  {
   "cell_type": "code",
   "execution_count": 35,
   "metadata": {},
   "outputs": [
    {
     "name": "stdout",
     "output_type": "stream",
     "text": [
      "[[2 3]\n",
      " [6 7]]\n"
     ]
    }
   ],
   "source": [
    "arr = np.array([[1,2,3,4],\n",
    "                [5,6,7,8],\n",
    "                [9,10,11,12]])\n",
    "sub_arr = arr[0:2, 1:3]\n",
    "print(sub_arr)\n",
    "#np.random.randn(60, 1900, 1080)"
   ]
  },
  {
   "cell_type": "code",
   "execution_count": 40,
   "metadata": {},
   "outputs": [
    {
     "name": "stdout",
     "output_type": "stream",
     "text": [
      "[ 3  7 11]\n",
      "[[ 7  8]\n",
      " [11 12]]\n"
     ]
    }
   ],
   "source": [
    "#obtener todas las filas de la tercera columna\n",
    "sub_column = arr[:,2]\n",
    "print(sub_column)\n",
    "\n",
    "#ultimas dos filas y últimas dos columnas\n",
    "sub_arr = arr[-2:, -2:]\n",
    "print(sub_arr)"
   ]
  },
  {
   "cell_type": "code",
   "execution_count": 43,
   "metadata": {},
   "outputs": [
    {
     "name": "stdout",
     "output_type": "stream",
     "text": [
      "[[1 2 3]\n",
      " [4 5 6]\n",
      " [7 8 9]]\n"
     ]
    }
   ],
   "source": [
    "#reshape(reformar): reacomodar o cambiar el tamaño de las matrices, o combinar matrices, alguna operacion u operacion\n",
    "arr = np.array([1,2,3,4,5,6,7,8,9])\n",
    "#cambiar la forma del arreglo a una matriz de 2 filas y 3 columnas\n",
    "reshaped_arr = arr.reshape(3,3) #multiplicado debe dar el valor del array 3*3=9\n",
    "print(reshaped_arr)"
   ]
  },
  {
   "cell_type": "code",
   "execution_count": 44,
   "metadata": {},
   "outputs": [
    {
     "name": "stdout",
     "output_type": "stream",
     "text": [
      "[[ 1  2  3  4]\n",
      " [ 5  6  7  8]\n",
      " [ 9 10 11 12]]\n"
     ]
    }
   ],
   "source": [
    "arr = np.array([1,2,3,4,5,6,7,8,9,10,11,12])\n",
    "#cambiar la forma del arreglo a una matriz de  3 filas y tamaño de columnas en automatico\n",
    "reshaped_arr = arr.reshape(3, -1)\n",
    "print(reshaped_arr)"
   ]
  },
  {
   "cell_type": "code",
   "execution_count": 45,
   "metadata": {},
   "outputs": [
    {
     "name": "stdout",
     "output_type": "stream",
     "text": [
      "[[ 1  2  3  4  5  6]\n",
      " [ 7  8  9 10 11 12]]\n"
     ]
    }
   ],
   "source": [
    "#reacomodar matrices ya existentes, ej arr bidimensional de 3*4\n",
    "arr = np.array([[1,2,3,4],\n",
    "                [5,6,7,8],\n",
    "                [9,10,11,12]])\n",
    "#cambiar forma a matriz de 2 * 6 columnas\n",
    "reshaped_arr = arr.reshape(2,6)\n",
    "print(reshaped_arr)\n"
   ]
  },
  {
   "cell_type": "code",
   "execution_count": 46,
   "metadata": {},
   "outputs": [
    {
     "name": "stdout",
     "output_type": "stream",
     "text": [
      "[1 2 3 4 5 6]\n"
     ]
    }
   ],
   "source": [
    "#combinaciones de arrays: concatenate()\n",
    "arr1 = np.array([1,2,3])\n",
    "arr2 = np.array([4,5,6])\n",
    "result = np.concatenate((arr1, arr2))\n",
    "print(result)\n"
   ]
  },
  {
   "cell_type": "code",
   "execution_count": 48,
   "metadata": {},
   "outputs": [
    {
     "name": "stdout",
     "output_type": "stream",
     "text": [
      "[[1 2 3]\n",
      " [4 5 6]]\n",
      "[1 2 3 4 5 6]\n"
     ]
    }
   ],
   "source": [
    "#vstack: unir arreglos verticalmente\n",
    "result = np.vstack((arr1, arr2))\n",
    "print(result)\n",
    "\n",
    "#hstack: unir arreglos horizontalmente\n",
    "result = np.hstack((arr1, arr2))\n",
    "print(result)"
   ]
  },
  {
   "cell_type": "code",
   "execution_count": 25,
   "metadata": {},
   "outputs": [
    {
     "name": "stdout",
     "output_type": "stream",
     "text": [
      "[[1]\n",
      " [2]\n",
      " [3]]\n",
      "[[4]\n",
      " [5]\n",
      " [6]]\n",
      "[[1 4]\n",
      " [2 5]\n",
      " [3 6]]\n"
     ]
    }
   ],
   "source": [
    "import numpy as np\n",
    "arr1 = np.array([1,2,3]).reshape(-1,1)#que tenga una columna\n",
    "arr2 = np.array([4,5,6]).reshape(-1,1)\n",
    "print(arr1)\n",
    "print(arr2)\n",
    "result= np.hstack((arr1, arr2))\n",
    "print(result)\n"
   ]
  },
  {
   "cell_type": "code",
   "execution_count": 39,
   "metadata": {},
   "outputs": [
    {
     "name": "stdout",
     "output_type": "stream",
     "text": [
      "[array([1, 2]), array([3, 4]), array([5, 6])]\n",
      "[[1 2 3]\n",
      " [4 5 6]]\n",
      "[array([[1, 2, 3]]), array([[4, 5, 6]])]\n",
      "\n",
      "[array([[1],\n",
      "       [4]]), array([[2],\n",
      "       [5]]), array([[3],\n",
      "       [6]])]\n"
     ]
    }
   ],
   "source": [
    "arr = np.array([1,2,3,4,5,6])\n",
    "#dividir el arreglo en tres partes split()\n",
    "result = np.split(arr,3)\n",
    "print(result)\n",
    "resh=arr.reshape(2,3)\n",
    "print(resh)\n",
    "resultv = np.vsplit(resh, 2)\n",
    "print(resultv)\n",
    "print()\n",
    "resulth = np.hsplit(resh,3)\n",
    "print(resulth)\n",
    "#crear arreglo np vacio\n",
    "#np.empty((10,4))#queda lleno de memoria basura"
   ]
  },
  {
   "cell_type": "code",
   "execution_count": 53,
   "metadata": {},
   "outputs": [
    {
     "name": "stdout",
     "output_type": "stream",
     "text": [
      "[[0 1 2]\n",
      " [3 4 5]\n",
      " [6 7 8]]\n"
     ]
    },
    {
     "data": {
      "text/plain": [
       "array([[ 0,  2,  4],\n",
       "       [ 3,  5,  7],\n",
       "       [ 6,  8, 10]])"
      ]
     },
     "execution_count": 53,
     "metadata": {},
     "output_type": "execute_result"
    }
   ],
   "source": [
    "#operaciones vectorizadas: operar sobre las matrices\n",
    "#broadcasting\n",
    "import numpy as np\n",
    "#M = np.ones((3,3))\n",
    "M = np.arange(9).reshape(3,3)\n",
    "print(M)\n",
    "a = np.array([0,1,2])\n",
    "M + a"
   ]
  },
  {
   "cell_type": "code",
   "execution_count": 61,
   "metadata": {},
   "outputs": [
    {
     "data": {
      "text/plain": [
       "array([[1., 0., 0., 0.],\n",
       "       [0., 1., 0., 0.],\n",
       "       [0., 0., 1., 0.],\n",
       "       [0., 0., 0., 1.]])"
      ]
     },
     "execution_count": 61,
     "metadata": {},
     "output_type": "execute_result"
    }
   ],
   "source": [
    "np.eye(4)\n",
    "#np.zeros((8,3))"
   ]
  },
  {
   "cell_type": "code",
   "execution_count": 3,
   "metadata": {},
   "outputs": [
    {
     "data": {
      "text/plain": [
       "array(['hello', 'como', 'estas'], dtype='<U5')"
      ]
     },
     "execution_count": 3,
     "metadata": {},
     "output_type": "execute_result"
    }
   ],
   "source": [
    "import numpy as np\n",
    "arr_s = np.array(['hello','como','estas']) #no es recomendable np arrays cadenas, no se puede operar adecuadamente\n",
    "arr_s.dtype\n",
    "\n",
    "arr_s"
   ]
  },
  {
   "cell_type": "code",
   "execution_count": 9,
   "metadata": {},
   "outputs": [
    {
     "data": {
      "text/plain": [
       "32"
      ]
     },
     "execution_count": 9,
     "metadata": {},
     "output_type": "execute_result"
    }
   ],
   "source": [
    "arr1 = np.array([1,2,3])\n",
    "arr2 = np.array([4,5,6])\n",
    "#arr1.T.dot(arr2) #32 #trasponer\n",
    "arr1@arr2"
   ]
  },
  {
   "cell_type": "code",
   "execution_count": 18,
   "metadata": {},
   "outputs": [
    {
     "name": "stdout",
     "output_type": "stream",
     "text": [
      "0\n",
      "1\n",
      "2\n",
      "3\n",
      "4\n",
      "[0, 1, 2, 3, 4, 5]\n",
      "**********\n",
      "{'a': '0', 'b': '2', 'c': '3'}\n",
      "a\n",
      "b\n",
      "c\n"
     ]
    }
   ],
   "source": [
    "#repaso python\n",
    "lista = []\n",
    "\"\"\"\n",
    "while len(lista) > 5:\n",
    "     for i in range (1,5):\n",
    "          lista.append(i);\n",
    "print(lista) \"\"\"\n",
    "for i in range(5):\n",
    "    lista.append(i)\n",
    "\n",
    "for element in lista:\n",
    "    print(element)\n",
    "\n",
    "lista.append(5)\n",
    "print(lista) \n",
    "print(\"*\"*10)\n",
    "contactos = {\n",
    "    'a': '1',\n",
    "    'b': '2',\n",
    "    'c': '3',\n",
    "}\n",
    "#print(contactos[input(\"a,b,c\")])\n",
    "contactos['a']='0'\n",
    "print(contactos)\n",
    "for element in contactos:\n",
    "    print(element)"
   ]
  },
  {
   "cell_type": "code",
   "execution_count": 13,
   "metadata": {},
   "outputs": [
    {
     "name": "stdout",
     "output_type": "stream",
     "text": [
      "Diferencias Deseadas: [49.75 58.75 53.35 44.35 56.95 60.55 51.55 55.15]\n",
      "Diferencias Calculadas: [52.  56.  53.6 49.6 55.2 56.8 52.8 54.4]\n"
     ]
    }
   ],
   "source": [
    "import numpy as np\n",
    "\n",
    "# Supongamos que tienes el arreglo temperaturas\n",
    "temperaturas = np.array([25, 30, 27, 22, 29, 31, 26, 28])\n",
    "\n",
    "# Temperatura media\n",
    "temperatura_media = np.mean(temperaturas)\n",
    "\n",
    "# Diferencias deseadas\n",
    "diferencias_deseadas = np.array([49.75, 58.75, 53.35, 44.35, 56.95, 60.55, 51.55, 55.15])\n",
    "\n",
    "# Calcula las diferencias para obtener los valores deseados\n",
    "diferencias = diferencias_deseadas - (temperaturas - temperatura_media)\n",
    "\n",
    "print(\"Diferencias Deseadas:\", diferencias_deseadas)\n",
    "print(\"Diferencias Calculadas:\", diferencias)\n"
   ]
  }
 ],
 "metadata": {
  "kernelspec": {
   "display_name": "python_ada",
   "language": "python",
   "name": "python3"
  },
  "language_info": {
   "codemirror_mode": {
    "name": "ipython",
    "version": 3
   },
   "file_extension": ".py",
   "mimetype": "text/x-python",
   "name": "python",
   "nbconvert_exporter": "python",
   "pygments_lexer": "ipython3",
   "version": "3.11.4"
  }
 },
 "nbformat": 4,
 "nbformat_minor": 2
}
