{
 "cells": [
  {
   "cell_type": "markdown",
   "metadata": {},
   "source": [
    "### Variables Dummy\n",
    "La codificación de categorías en variables binarias es una técnica utilizada en el análisis de datos para convertir variables categóricas en variables binarias o binarias-dummys. Esto implica asignar un valor numérico 0 o 1 a cada categoría de la variable, donde 0 representa la ausencia de la categoría y 1 representa la presencia de la categoría.\n",
    "\n",
    "Esta técnica se utiliza cuando se desea incorporar variables categóricas en modelos de aprendizaje automático que solo pueden manejar datos numéricos.\n",
    "\n",
    "Ejemplo:\n",
    "\n",
    "Supongamos que tenemos un conjunto de datos con una columna llamada \"Color de ojos\" que tiene tres categorías: \"Azul\", \"Verde\" y \"Café\". Queremos codificar esta variable en variables binarias para su uso en un modelo de aprendizaje automático.\n",
    "\n",
    "ID\tColor de ojos\n",
    "1\tAzul\n",
    "2\tVerde\n",
    "3\tCafé\n",
    "4\tCafé\n",
    "5\tAzul\n",
    "\n",
    "La codificación de categorías en variables binarias nos daría las siguientes columnas adicionales:\n",
    "\n",
    "ID\tColor de ojos_Azul\tColor de ojos_Verde\tColor de ojos_Café\n",
    "1\t1\t0\t0\n",
    "2\t0\t1\t0\n",
    "3\t0\t0\t1\n",
    "4\t0\t0\t1\n",
    "5\t1\t0\t0\n",
    "\n",
    "Cada nueva columna representa una categoría única de la variable original. Si un registro tiene esa categoría en particular, el valor correspondiente en la columna será 1; de lo contrario, será 0.\n",
    "\n",
    "Este resultado se puede obtener fácilmente usando Pandas"
   ]
  },
  {
   "cell_type": "code",
   "execution_count": null,
   "metadata": {},
   "outputs": [],
   "source": [
    "import pandas as pd\n",
    "\n",
    "data = {\n",
    "    'ID': [1, 2, 3, 4, 5],\n",
    "    'Color de ojos': ['Azul', 'Verde', 'Café', 'Café', 'Azul']\n",
    "}\n",
    "\n",
    "df = pd.DataFrame(data)\n",
    "\n",
    "# Generar variables dummy\n",
    "dummy_df = pd.get_dummies(df['Color de ojos'], prefix='Color de ojos')\n",
    "\n",
    "# Concatenar el DataFrame original y el DataFrame de variables dummy\n",
    "result_df = pd.concat([df, dummy_df], axis=1)\n",
    "\n",
    "# Eliminar la columna \"Color de ojos\" del DataFrame resultante si se desea\n",
    "result_df.drop('Color de ojos', axis=1, inplace=True)\n",
    "\n",
    "# Mostrar el DataFrame resultante\n",
    "print(result_df)"
   ]
  },
  {
   "cell_type": "code",
   "execution_count": null,
   "metadata": {},
   "outputs": [],
   "source": []
  }
 ],
 "metadata": {
  "language_info": {
   "name": "python"
  }
 },
 "nbformat": 4,
 "nbformat_minor": 2
}
