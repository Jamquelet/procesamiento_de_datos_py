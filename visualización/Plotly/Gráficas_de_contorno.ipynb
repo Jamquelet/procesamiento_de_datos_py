{
 "cells": [
  {
   "cell_type": "markdown",
   "metadata": {},
   "source": [
    "Un gráfico de contorno, también conocido como mapa de contorno, es una representación visual de la variación de una variable en un plano bidimensional. Muestra líneas curvas o contornos que conectan puntos de igual valor en un espacio continuo.\n",
    "\n",
    "En un gráfico de contorno, el eje x y el eje y representan las coordenadas espaciales, mientras que las líneas de contorno representan los niveles o valores de una tercera variable. Estos niveles se representan mediante diferentes colores o sombreado, lo que permite identificar patrones y tendencias en los datos.\n",
    "\n",
    "Los gráficos de contorno son especialmente útiles para visualizar datos continuos y su variación en un espacio bidimensional. Proporcionan información sobre la forma y la distribución de los datos, así como sobre las zonas de mayor y menor densidad o valor. Algunos usos comunes de los gráficos de contorno incluyen:\n",
    "\n",
    "1.Visualización de datos científicos: Los gráficos de contorno se utilizan ampliamente en campos como la física, la meteorología, la geología y otras ciencias para representar fenómenos espaciales, como el flujo de calor, las presiones atmosféricas, los gradientes de temperatura, etc.\n",
    "\n",
    "2.Análisis de datos geoespaciales: Los gráficos de contorno se utilizan para representar datos en mapas, como la altitud en un mapa topográfico, la concentración de contaminantes en una región geográfica, la distribución de especies en un ecosistema, entre otros.\n",
    "\n",
    "3.Optimización y análisis de superficies: Los gráficos de contorno también se utilizan para analizar funciones matemáticas o modelos de simulación. Ayudan a identificar áreas de máximo o mínimo, puntos de inflexión y patrones de comportamiento en una superficie."
   ]
  },
  {
   "cell_type": "code",
   "execution_count": null,
   "metadata": {},
   "outputs": [],
   "source": [
    "\"\"\" Ejemplo con plotly\n",
    "Paso 1: Importar las bibliotecas necesarias. \"\"\"\n",
    "\n",
    "import plotly.graph_objects as go\n",
    "import numpy as np\n",
    "\n",
    "#Paso 2: Crear los datos para el gráfico de contorno.\n",
    "\n",
    "x = np.linspace(-5, 5, 100)  # Valores de x\n",
    "y = np.linspace(-5, 5, 100)  # Valores de y\n",
    "X, Y = np.meshgrid(x, y)  # Crear una malla de coordenadas X e Y\n",
    "Z = np.sin(np.sqrt(X**2 + Y**2))  # Valores de la tercera variable (Z)\n",
    "\n",
    "\n",
    "#Documentación de np.meshgrid https://numpy.org/doc/stable/reference/generated/numpy.meshgrid.html\n",
    "\n",
    "#Paso 3: Crear el gráfico de contorno utilizando graph_objects.\n",
    "\n",
    "fig = go.Figure()  # Crear una figura vacía\n",
    "\n",
    "# Añadir el trazado de contorno a la figura\n",
    "fig.add_trace(go.Contour(\n",
    "    x=x, y=y, z=Z,  # Datos de x, y y z\n",
    "    colorscale='Jet'  # Colormap para los colores del contorno\n",
    "))\n",
    "\n",
    "# Personalizar el diseño del gráfico\n",
    "fig.update_layout(\n",
    "    title='Gráfico de Contorno',  # Título del gráfico\n",
    "    xaxis_title='X',  # Etiqueta del eje x\n",
    "    yaxis_title='Y'  # Etiqueta del eje y\n",
    ")\n",
    "\n",
    "fig.update_yaxes(\n",
    "    scaleanchor=\"x\",\n",
    "    scaleratio=1,\n",
    ")\n",
    "\n",
    "# Mostrar el gráfico\n",
    "fig.show()"
   ]
  },
  {
   "cell_type": "markdown",
   "metadata": {},
   "source": [
    "En este ejemplo, creamos los datos x, y y Z para el gráfico de contorno. x y y representan las coordenadas espaciales y Z representa los valores de la tercera variable que queremos representar en el gráfico de contorno. En este caso, utilizamos una función seno de la distancia a partir del origen (np.sqrt(X**2 + Y**2)) para generar los valores de Z.\n",
    "\n",
    "Después, creamos una figura vacía utilizando go.Figure(). Añadimos un trazado de contorno a la figura utilizando go.Contour, especificando los datos x, y y z, y opcionalmente el colormap para los colores del contorno."
   ]
  },
  {
   "cell_type": "code",
   "execution_count": null,
   "metadata": {},
   "outputs": [],
   "source": []
  }
 ],
 "metadata": {
  "language_info": {
   "name": "python"
  }
 },
 "nbformat": 4,
 "nbformat_minor": 2
}
