{
 "cells": [
  {
   "cell_type": "markdown",
   "metadata": {},
   "source": [
    "Vamos a utilizar datos generados al resolver un sistema de ecuaciones diferenciales (Usando el método de Runge-Kutta) para visualizar atractores y ejemplificar el uso de gráficos de líneas 3D\n",
    "\n",
    "Sean los archivos regular.npy y caotico.npy disponibles en esta carpeta, implementamos el siguiente código para realizar la gráfica:"
   ]
  },
  {
   "cell_type": "code",
   "execution_count": null,
   "metadata": {},
   "outputs": [],
   "source": [
    "import numpy as np\n",
    "from plotly import graph_objects as go\n",
    "\n",
    "# Cargar los datos\n",
    "regular = np.load(\"regular.npy\")\n",
    "caotico = np.load(\"caotico.npy\")\n",
    "\n",
    "\n",
    "#Realizamos una de las gráficas\n",
    "\n",
    "fig = go.Figure()  # Crear una figura vacía\n",
    "\n",
    "# Añadir el trazado de línea 3D a la figura\n",
    "fig.add_trace(go.Scatter3d(\n",
    "    x=regular[:,0], y=regular[:,1], z=regular[:,2],  # Datos de x, y y z\n",
    "    mode='lines',  # Estilo de línea\n",
    "    line=dict(color='black', width=2)  # Color y ancho de línea\n",
    "))\n",
    "\n",
    "# Personalizar el diseño de la gráfica\n",
    "fig.update_layout(\n",
    "    title='Gráfica de Línea 3D',  # Título de la gráfica\n",
    "    scene=dict(\n",
    "        xaxis_title='X',  # Etiqueta del eje x\n",
    "        yaxis_title='Y',  # Etiqueta del eje y\n",
    "        zaxis_title='Z'  # Etiqueta del eje z\n",
    "    )\n",
    ")\n",
    "\n",
    "# Mostrar la gráfica\n",
    "fig.show()\n"
   ]
  },
  {
   "cell_type": "code",
   "execution_count": null,
   "metadata": {},
   "outputs": [],
   "source": []
  }
 ],
 "metadata": {
  "language_info": {
   "name": "python"
  }
 },
 "nbformat": 4,
 "nbformat_minor": 2
}
