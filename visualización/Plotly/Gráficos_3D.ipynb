{
 "cells": [
  {
   "cell_type": "markdown",
   "metadata": {},
   "source": [
    "Gráficos 3D\n",
    "Hasta ahora sólo trabajamos con gráficas bidimensionales. A pesar de que matplotlib es capaz de realizar gráficas 3D, su motor de renderizado no es el más óptimo para esto, por otra parte plotly está optimizado para esto usando WebGL.\n",
    "\n",
    "Para realizar una gráfica de dispersión en 3D, veamos el siguiente ejemplo:"
   ]
  },
  {
   "cell_type": "code",
   "execution_count": null,
   "metadata": {},
   "outputs": [],
   "source": [
    "#Paso 1: Importar las bibliotecas necesarias.\n",
    "\n",
    "import plotly.graph_objects as go\n",
    "import numpy as np\n",
    "\n",
    "#Paso 2: Crear los datos para la gráfica de dispersión 3D.\n",
    "\n",
    "# Generar datos aleatorios\n",
    "np.random.seed(0)\n",
    "n = 100  # Número de puntos de datos\n",
    "x = np.random.randn(n)\n",
    "y = np.random.randn(n)\n",
    "z = np.random.randn(n)\n",
    "\n",
    "# Agregar ruido a los datos\n",
    "x += 5 * np.random.randn(n)\n",
    "y += 5 * np.random.randn(n)\n",
    "z += 5 * np.random.randn(n)"
   ]
  },
  {
   "cell_type": "code",
   "execution_count": null,
   "metadata": {},
   "outputs": [],
   "source": [
    "#Paso 3: Crear la gráfica de dispersión 3D utilizando graph_objects.\n",
    "\n",
    "fig = go.Figure()  # Crear una figura vacía\n",
    "\n",
    "# Añadir el trazado de dispersión 3D a la figura\n",
    "fig.add_trace(go.Scatter3d(\n",
    "    x=x, y=y, z=z,  # Datos de x, y y z\n",
    "    mode='markers',  # Estilo de marcador\n",
    "    marker=dict(\n",
    "        size=5,  # Tamaño de los marcadores\n",
    "        color=z,  # Variable z para la escala de colores\n",
    "        colorscale='Viridis',  # Colormap para los colores de los marcadores\n",
    "        opacity=0.8  # Opacidad de los marcadores\n",
    "    )\n",
    "))\n",
    "\n",
    "# Personalizar el diseño de la gráfica\n",
    "fig.update_layout(\n",
    "    title='Gráfica de Dispersión 3D',  # Título de la gráfica\n",
    "    scene=dict(\n",
    "        xaxis_title='X',  # Etiqueta del eje x\n",
    "        yaxis_title='Y',  # Etiqueta del eje y\n",
    "        zaxis_title='Z'  # Etiqueta del eje z\n",
    "    )\n",
    ")\n",
    "\n",
    "# Mostrar la gráfica\n",
    "fig.show()"
   ]
  },
  {
   "cell_type": "code",
   "execution_count": null,
   "metadata": {},
   "outputs": [],
   "source": []
  }
 ],
 "metadata": {
  "language_info": {
   "name": "python"
  }
 },
 "nbformat": 4,
 "nbformat_minor": 2
}
