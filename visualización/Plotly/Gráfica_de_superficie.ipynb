{
 "cells": [
  {
   "cell_type": "markdown",
   "metadata": {},
   "source": [
    "Gráfica de superficie\n",
    "Una gráfica de superficie, también conocida como mapa de superficie, es una representación visual de una función matemática en un espacio tridimensional. Muestra cómo una variable depende de dos variables independientes en un plano bidimensional, donde la tercera dimensión se representa mediante la altura o el color de una superficie tridimensional.\n",
    "\n",
    "En una gráfica de superficie, los ejes x e y representan las dos variables independientes, mientras que el eje z representa la variable dependiente. La superficie en sí muestra cómo el valor de la variable dependiente cambia en función de las variables independientes.\n",
    "\n",
    "La representación de la superficie puede lograrse mediante una malla de puntos conectados por líneas y sombreado para indicar el valor de la variable dependiente.\n",
    "\n",
    "Algunos usos comunes de las gráficas de superficie incluyen:\n",
    "\n",
    "1.Análisis de datos científicos: Se utilizan para visualizar y comprender fenómenos físicos, químicos, biológicos o geológicos, como campos de temperatura, concentraciones químicas, topografías, campos magnéticos, etc.\n",
    "\n",
    "2.Modelado matemático y simulaciones: Se emplean para representar el comportamiento de funciones matemáticas complejas o modelos de simulación en campos como la física, la ingeniería, la economía, la meteorología, entre otros.\n",
    "\n",
    "3.Visualización de datos geoespaciales: Se utilizan para mostrar características del terreno, como elevaciones, pendientes, profundidades o cualquier otro atributo asociado a una ubicación geográfica."
   ]
  },
  {
   "cell_type": "code",
   "execution_count": null,
   "metadata": {},
   "outputs": [],
   "source": [
    "#Ejemplo\n",
    "#Para graficar una superficie, ejecutamos el siguiente código:\n",
    "\n",
    "#Paso 1: Crear los datos para la gráfica de superficie.\n",
    "\n",
    "# Definir los puntos de muestreo en los ejes x e y\n",
    "x = np.linspace(-5, 5, 100)\n",
    "y = np.linspace(-5, 5, 100)\n",
    "\n",
    "# Crear una malla de coordenadas x e y\n",
    "X, Y = np.meshgrid(x, y)\n",
    "\n",
    "# Definir la función para la variable z (variable dependiente)\n",
    "Z = np.sin(np.sqrt(X**2 + Y**2))\n",
    "\n",
    "\n",
    "#Paso 2: Crear la gráfica de superficie utilizando graph_objects.\n",
    "\n",
    "fig = go.Figure()  # Crear una figura vacía\n",
    "\n",
    "# Añadir el trazado de superficie a la figura\n",
    "fig.add_trace(go.Surface(\n",
    "    x=x, y=y, z=Z,  # Datos de x, y y z\n",
    "    colorscale='Viridis'  # Colormap para los colores de la superficie\n",
    "))\n",
    "\n",
    "# Personalizar el diseño de la gráfica\n",
    "fig.update_layout(\n",
    "    title='Gráfica de Superficie',  # Título de la gráfica\n",
    "    scene=dict(\n",
    "        xaxis_title='X',  # Etiqueta del eje x\n",
    "        yaxis_title='Y',  # Etiqueta del eje y\n",
    "        zaxis_title='Z'  # Etiqueta del eje z\n",
    "    )\n",
    ")\n",
    "\n",
    "# Mostrar la gráfica\n",
    "fig.show()\n",
    "\n",
    "#Definimos la función para la variable Z (variable dependiente). En este caso, utilizamos una función seno de la distancia a partir del origen (np.sqrt(X**2 + Y**2)) para generar los valores de Z."
   ]
  },
  {
   "cell_type": "code",
   "execution_count": null,
   "metadata": {},
   "outputs": [],
   "source": []
  }
 ],
 "metadata": {
  "language_info": {
   "name": "python"
  }
 },
 "nbformat": 4,
 "nbformat_minor": 2
}
