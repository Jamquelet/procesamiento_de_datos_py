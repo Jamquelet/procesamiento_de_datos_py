{
 "cells": [
  {
   "cell_type": "markdown",
   "metadata": {},
   "source": [
    "Ejemplo\n",
    "Para este ejemplo, primero creamos un dataframe df con datos ficticios que representan los nombres, precios y categorías de 15 productos."
   ]
  },
  {
   "cell_type": "code",
   "execution_count": null,
   "metadata": {},
   "outputs": [],
   "source": [
    "import matplotlib.pyplot as plt\n",
    "import pandas as pd\n",
    "import numpy as np\n",
    "\n",
    "# Crear el dataframe con los datos de ejemplo\n",
    "data = {\n",
    "    'Nombre': ['Producto 1', 'Producto 2', 'Producto 3', 'Producto 4', 'Producto 5',\n",
    "               'Producto 6', 'Producto 7', 'Producto 8', 'Producto 9', 'Producto 10',\n",
    "               'Producto 11', 'Producto 12', 'Producto 13', 'Producto 14', 'Producto 15'],\n",
    "    'Precio': [100, 150, 200, 120, 180, 250, 160, 140, 170, 190, 210, 230, 240, 220, 130],\n",
    "    'Categoría': ['Electrónica', 'Electrónica', 'Ropa', 'Juguetes', 'Ropa',\n",
    "                  'Ropa', 'Juguetes', 'Electrónica', 'Libros', 'Libros', 'Ropa',\n",
    "                  'Electrónica', 'Ropa', 'Libros', 'Electrónica']\n",
    "}\n",
    "\n",
    "df = pd.DataFrame(data)"
   ]
  },
  {
   "cell_type": "code",
   "execution_count": null,
   "metadata": {},
   "outputs": [],
   "source": [
    "#Establecemos el estilo\n",
    "plt.style.use('fivethirtyeight')"
   ]
  },
  {
   "cell_type": "code",
   "execution_count": null,
   "metadata": {},
   "outputs": [],
   "source": [
    "#Creamos un subplot (usaremos Axis)\n",
    "fig, axs = plt.subplots(2, 2, figsize=(10, 8))\n",
    "\n",
    "#La variable axs se utiliza para almacenar una matriz de subplots. La función plt.subplots() devuelve tanto la figura como una matriz de ejes (subplots) en forma de ndarray de Numpy."
   ]
  },
  {
   "cell_type": "code",
   "execution_count": null,
   "metadata": {},
   "outputs": [],
   "source": [
    "#Graficamos la distribución de precios\n",
    "axs[0, 0].boxplot(df['Precio'])\n",
    "axs[0, 0].set_title('Distribución de Precios')\n",
    "axs[0, 0].set_ylabel('Precio')"
   ]
  },
  {
   "cell_type": "code",
   "execution_count": null,
   "metadata": {},
   "outputs": [],
   "source": [
    "#Las categorías\n",
    "category_counts = df['Categoría'].value_counts()\n",
    "axs[0, 1].pie(category_counts, labels=category_counts.index, autopct='%1.1f%%')\n",
    "axs[0, 1].set_title('Distribución de Categorías')"
   ]
  },
  {
   "cell_type": "code",
   "execution_count": null,
   "metadata": {},
   "outputs": [],
   "source": [
    "#Y un par de histogramas\n",
    "axs[1, 0].hist(df[df['Categoría'] == 'Ropa']['Precio'], bins=5, color='C2', alpha=0.7, edgecolor=\"black\")\n",
    "axs[1, 0].set_title('Histograma de Precios (Ropa)')\n",
    "axs[1, 0].set_xlabel('Precio')\n",
    "axs[1, 0].set_ylabel('Frecuencia')\n",
    "\n",
    "axs[1, 1].hist(df[df['Categoría'] == 'Electrónica']['Precio'], bins=5, color='C3', alpha=0.7, edgecolor=\"black\")\n",
    "axs[1, 1].set_title('Histograma de Precios (Electrónica)')\n",
    "axs[1, 1].set_xlabel('Precio')\n",
    "axs[1, 1].set_ylabel('Frecuencia')"
   ]
  },
  {
   "cell_type": "code",
   "execution_count": null,
   "metadata": {},
   "outputs": [],
   "source": [
    "#Finalmente presentamos los resultados\n",
    "plt.tight_layout()\n",
    "plt.show()"
   ]
  },
  {
   "cell_type": "code",
   "execution_count": null,
   "metadata": {},
   "outputs": [],
   "source": []
  }
 ],
 "metadata": {
  "language_info": {
   "name": "python"
  }
 },
 "nbformat": 4,
 "nbformat_minor": 2
}
