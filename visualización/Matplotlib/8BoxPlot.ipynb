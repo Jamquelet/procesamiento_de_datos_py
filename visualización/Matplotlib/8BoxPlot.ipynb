{
 "cells": [
  {
   "cell_type": "markdown",
   "metadata": {},
   "source": [
    "BoxPlot\n",
    "Un boxplot, también conocido como diagrama de caja y bigotes, es una herramienta gráfica utilizada para representar la distribución de un conjunto de datos numéricos y resumir información estadística clave.\n",
    "\n",
    "Un boxplot muestra de manera visual la mediana, los cuartiles y los valores atípicos (outliers) de un conjunto de datos. Esto proporciona una representación compacta de la distribución y permite identificar características importantes del conjunto de datos, como la dispersión, la simetría y los valores extremos.\n",
    "\n",
    "Sus componentes son:\n",
    "\n",
    "-Caja (Box): La caja representa el rango intercuartílico (IQR, por sus siglas en inglés), que es la diferencia entre el tercer cuartil (Q3) y el primer cuartil (Q1). La línea dentro de la caja representa la mediana (Q2).\n",
    "\n",
    "-Bigotes (Whiskers): Los bigotes se extienden desde la caja y representan la variabilidad del conjunto de datos. Los extremos de los bigotes suelen definirse siguiendo la regla del rango intercuartílico (IQR) El rango se define por la fórmula:\n",
    "\n",
    "Límite inferior del bigote: Q1 - 1.5 * IQR\n",
    "Límite superior del bigote: Q3 + 1.5 * IQR\n",
    "Donde Q1 es el primer cuartil, Q3 es el tercer cuartil y el IQR es la diferencia entre Q3 y Q1.\n",
    "Los valores que caen por debajo del límite inferior o por encima del límite superior se consideran valores atípicos y se representan como puntos separados fuera de los bigotes.\n",
    "\n",
    "-Valores atípicos (Outliers): Los valores atípicos son puntos individuales que se encuentran más allá de los bigotes. Estos puntos pueden ser considerados como valores inusuales o anómalos en el conjunto de datos.\n",
    "\n",
    "El boxplot es una herramienta útil para explorar y comparar la distribución de múltiples conjuntos de datos. Algunas de sus aplicaciones comunes son:\n",
    "\n",
    "1.Resumen estadístico: El boxplot proporciona un resumen visual de estadísticas clave, como la mediana, los cuartiles y los valores atípicos. Esto facilita la comprensión de la distribución y las características de los datos.\n",
    "\n",
    "2.Comparación de grupos: Los boxplots permiten comparar las distribuciones de múltiples grupos o categorías en un solo gráfico. Esto es útil para identificar diferencias en la mediana, la dispersión y los valores atípicos entre los grupos.\n",
    "\n",
    "3.Detección de valores atípicos: Los boxplots ayudan a identificar valores atípicos o extremos en los datos, lo que puede ser importante para comprender la variabilidad y los patrones inusuales."
   ]
  },
  {
   "cell_type": "code",
   "execution_count": null,
   "metadata": {},
   "outputs": [],
   "source": [
    "\"\"\" Ejemplo\n",
    "Supongamos que tienes un conjunto de datos que representa los tiempos de finalización de diferentes corredores en una carrera de maratón. Queremos visualizar la distribución de los tiempos de finalización utilizando un boxplot. \"\"\"\n",
    "\n",
    "import matplotlib.pyplot as plt\n",
    "\n",
    "# Datos de ejemplo\n",
    "tiempos_corredores = [200, 130, 180, 215, 190, 225, 210, 205, 300, 185, 230, 195, 220, 240]\n",
    "\n",
    "# Crear el boxplot\n",
    "plt.boxplot(tiempos_corredores)\n",
    "\n",
    "# Estilizar el boxplot\n",
    "plt.title(\"Distribución de Tiempos de Finalización\")\n",
    "plt.xlabel(\"Carrera de Maratón\")\n",
    "plt.ylabel(\"Tiempo (minutos)\")\n",
    "\n",
    "# Mostrar el boxplot\n",
    "plt.show()\n",
    "\n",
    "#El boxplot resultante mostrará una caja que representa el rango intercuartílico (IQR), los bigotes que indican la variabilidad de los datos y los posibles valores atípicos que se encuentren más allá de los bigotes."
   ]
  },
  {
   "cell_type": "code",
   "execution_count": null,
   "metadata": {},
   "outputs": [],
   "source": []
  }
 ],
 "metadata": {
  "language_info": {
   "name": "python"
  }
 },
 "nbformat": 4,
 "nbformat_minor": 2
}
