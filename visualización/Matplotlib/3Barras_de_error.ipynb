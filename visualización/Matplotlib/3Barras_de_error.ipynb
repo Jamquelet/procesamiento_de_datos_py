{
 "cells": [
  {
   "cell_type": "markdown",
   "metadata": {},
   "source": [
    "#### Barras de error\n",
    "\n",
    "Las barras de error son representaciones visuales que se utilizan para indicar la variabilidad o incertidumbre asociada a los puntos de datos en un gráfico. Estas barras proporcionan una medida de la dispersión o el rango de error de los datos.\n",
    "\n",
    "Las barras de error se utilizan comúnmente en gráficos científicos y estadísticos para visualizar la incertidumbre en mediciones, experimentos o estimaciones. Son especialmente útiles cuando se desean representar intervalos de confianza, desviaciones estándar, errores estándar o cualquier otra medida de dispersión o incertidumbre.\n",
    "\n",
    "Al representar las barras de error en un gráfico, se muestra la variabilidad en los valores de los datos alrededor de su ubicación central, ya sea la media, la mediana u otro valor de referencia. Esto proporciona una comprensión visual de la precisión y la confiabilidad de los datos.\n",
    "\n",
    "En Matplotlib, puedes visualizar errores o incertidumbres asociadas a tus datos utilizando errorbar\n",
    "\n",
    "Dos formas de usar barras de errores son:"
   ]
  },
  {
   "cell_type": "code",
   "execution_count": null,
   "metadata": {},
   "outputs": [],
   "source": [
    "#1.Barras de error simétricas utilizando el argumento yerr:\n",
    "\n",
    "import matplotlib.pyplot as plt\n",
    "\n",
    "x = [1, 2, 3, 4, 5]\n",
    "y = [2, 4, 1, 5, 3]\n",
    "error = [0.5, 0.3, 0.7, 0.2, 0.4]\n",
    "\n",
    "plt.errorbar(x, y, yerr=error, fmt='o')\n",
    "plt.show()\n",
    "\n",
    "#En este ejemplo, los valores de yerr representan la longitud de las barras de error en la dirección vertical (eje y). Se mostrarán barras de error simétricas alrededor de cada punto de datos en el gráfico."
   ]
  },
  {
   "cell_type": "code",
   "execution_count": null,
   "metadata": {},
   "outputs": [],
   "source": [
    "#2.Barras de error asimétricas utilizando los argumentos yerr y xerr:\n",
    "\n",
    "import matplotlib.pyplot as plt\n",
    "\n",
    "x = [1, 2, 3, 4, 5]\n",
    "y = [2, 4, 1, 5, 3]\n",
    "x_error = [0.1, 0.2, 0.3, 0.1, 0.2]\n",
    "y_error = [0.5, 0.3, 0.7, 0.2, 0.4]\n",
    "\n",
    "plt.errorbar(x, y, xerr=x_error, yerr=y_error, fmt='o')\n",
    "plt.show()\n",
    "\n",
    "#En este caso, los valores de xerr representan la longitud de las barras de error en la dirección horizontal (eje x), mientras que los valores de yerr representan la longitud de las barras de error en la dirección vertical (eje y). Las barras de error pueden ser asimétricas, lo que significa que pueden variar en longitud en ambas direcciones."
   ]
  },
  {
   "cell_type": "markdown",
   "metadata": {},
   "source": [
    "En ambos métodos, el argumento fmt se utiliza para especificar el estilo y el marcador de los puntos en el gráfico. Puedes personalizar aún más el estilo de las barras de error, como el color, el grosor de línea, los capuchones de las barras, entre otros, utilizando argumentos adicionales.\n",
    "\n",
    "Ejemplo\n",
    "Supongamos que estás analizando la relación entre la altura de plantas y la cantidad de luz solar que reciben. Tienes datos que representan la altura promedio de las plantas en diferentes condiciones de luz, junto con los errores asociados a esas mediciones.\n",
    "\n",
    "Sean los siguientes datos de ejemplo:\n",
    "\n",
    "Condiciones de luz:\n",
    "\n",
    "Baja\n",
    "Media\n",
    "Alta\n",
    "Altura promedio de las plantas (en cm):\n",
    "\n",
    "Baja: 10\n",
    "Media: 15\n",
    "Alta: 20\n",
    "Errores en la altura (en cm):\n",
    "\n",
    "Baja: 2\n",
    "Media: 3\n",
    "Alta: 4\n",
    "Podemos utilizar errorbar para representar estos datos en un gráfico de dispersión con barras de error."
   ]
  },
  {
   "cell_type": "code",
   "execution_count": null,
   "metadata": {},
   "outputs": [],
   "source": [
    "import matplotlib.pyplot as plt\n",
    "\n",
    "condiciones_luz = ['Baja', 'Media', 'Alta']\n",
    "altura_promedio = [10, 15, 20]\n",
    "errores_altura = [2, 3, 4]\n",
    "\n",
    "plt.errorbar(condiciones_luz, altura_promedio, yerr=errores_altura, fmt='o', capsize=5)\n",
    "plt.title('Altura de Plantas en Diferentes Condiciones de Luz')\n",
    "plt.xlabel('Condiciones de Luz')\n",
    "plt.ylabel('Altura de las Plantas (cm)')\n",
    "\n",
    "plt.show()"
   ]
  },
  {
   "cell_type": "markdown",
   "metadata": {},
   "source": [
    "En este ejemplo, se utiliza errorbar para trazar los puntos de datos representando la altura promedio de las plantas en diferentes condiciones de luz. Las barras de error se agregan utilizando los valores proporcionados en errores_altura, que indican la incertidumbre asociada a cada altura promedio.\n",
    "\n",
    "El argumento fmt='o' especifica que se utilice un marcador de círculo para los puntos de datos. El argumento capsize=5 se utiliza para ajustar el tamaño de los capuchones de las barras de error."
   ]
  },
  {
   "cell_type": "code",
   "execution_count": null,
   "metadata": {},
   "outputs": [],
   "source": []
  }
 ],
 "metadata": {
  "language_info": {
   "name": "python"
  }
 },
 "nbformat": 4,
 "nbformat_minor": 2
}
