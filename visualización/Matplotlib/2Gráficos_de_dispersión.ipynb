{
 "cells": [
  {
   "cell_type": "markdown",
   "metadata": {},
   "source": [
    "##### Gráficos de dispersión\n",
    "\n",
    "Un gráfico de dispersión es un tipo de visualización que representa la relación entre dos variables numéricas mediante puntos individuales en un plano cartesiano. Cada punto en el gráfico de dispersión representa una observación o un par de valores correspondientes a las dos variables que se están comparando.\n",
    "\n",
    "La principal diferencia entre un gráfico de dispersión y un gráfico de líneas radica en la forma en que se representan los datos. Mientras que un gráfico de líneas conecta los puntos de datos con segmentos de línea recta para mostrar una tendencia o una secuencia en los datos, un gráfico de dispersión muestra cada punto de datos de forma aislada en el plano.\n",
    "\n",
    "El gráfico de dispersión es especialmente útil cuando se quiere visualizar la relación y la distribución de los datos entre dos variables numéricas. Permite identificar patrones, tendencias, concentraciones o dispersión en los datos.\n",
    "\n",
    "En un gráfico de dispersión, el eje x representa una variable independiente, y el eje y representa una variable dependiente. Cada punto en el gráfico se ubica en las coordenadas (x, y) correspondientes a los valores de las dos variables para esa observación.\n",
    "\n",
    "Una vez que los puntos están representados en el gráfico de dispersión, se pueden observar patrones como una correlación positiva (los puntos tienden a estar en una dirección ascendente), una correlación negativa (los puntos tienden a estar en una dirección descendente) o la ausencia de correlación (los puntos están dispersos sin un patrón claro).\n",
    "\n",
    "Ejemplo:\n",
    "Supongamos que tienes datos que representan la relación entre el tiempo de estudio diario y las calificaciones obtenidas por un grupo de estudiantes en un examen. Los datos se presentan de la siguiente manera:\n",
    "\n",
    "Tiempo de estudio diario (en horas):\n",
    "\n",
    "1.5\n",
    "2.0\n",
    "2.5\n",
    "1.0\n",
    "3.0\n",
    "2.5\n",
    "4.0\n",
    "3.5\n",
    "2.0\n",
    "1.5\n",
    "Calificaciones obtenidas en el examen (en porcentaje):\n",
    "\n",
    "60\n",
    "65\n",
    "75\n",
    "55\n",
    "80\n",
    "70\n",
    "85\n",
    "75\n",
    "60\n",
    "50"
   ]
  },
  {
   "cell_type": "code",
   "execution_count": null,
   "metadata": {},
   "outputs": [],
   "source": [
    "import matplotlib.pyplot as plt\n",
    "\n",
    "tiempo_estudio = [1.5, 2.0, 2.5, 1.0, 3.0, 2.5, 4.0, 3.5, 2.0, 1.5]\n",
    "calificaciones = [60, 65, 75, 55, 80, 70, 85, 75, 60, 50]\n",
    "\n",
    "plt.scatter(tiempo_estudio, calificaciones, color='blue')\n",
    "plt.title('Relación entre Tiempo de Estudio y Calificaciones')\n",
    "plt.xlabel('Tiempo de Estudio diario (horas)')\n",
    "plt.ylabel('Calificaciones en el examen (porcentaje)')\n",
    "\n",
    "plt.show()\n",
    "\n",
    "#Al ejecutar este código, se obtiene un gráfico de dispersión en el que cada punto representa una observación correspondiente al tiempo de estudio diario y la calificación obtenida por un estudiante."
   ]
  },
  {
   "cell_type": "markdown",
   "metadata": {},
   "source": [
    "Podemos personalizar el tipo de marcador con el parámetro marker='o'. Las opciones posibles son:\n",
    "\n",
    "'.' Punto\n",
    "',' Pixel\n",
    "'o' Círculo\n",
    "'v' Triángulo hacia abajo\n",
    "'^' Triángulo hacia arriba\n",
    "'<' Triángulo hacia la izquierda\n",
    "'>' Triángulo hacia la derecha\n",
    "'s' Cuadrado\n",
    "'p' Pentágono\n",
    "'*' Estrella\n",
    "'h' Hexágono\n",
    "'+' Cruz\n",
    "'x' X"
   ]
  },
  {
   "cell_type": "code",
   "execution_count": null,
   "metadata": {},
   "outputs": [],
   "source": []
  }
 ],
 "metadata": {
  "language_info": {
   "name": "python"
  }
 },
 "nbformat": 4,
 "nbformat_minor": 2
}
