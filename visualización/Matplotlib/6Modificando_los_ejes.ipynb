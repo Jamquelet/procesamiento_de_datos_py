{
 "cells": [
  {
   "cell_type": "markdown",
   "metadata": {},
   "source": [
    "Modificando los ejes\n",
    "Cuando necesitamos generar reportes para diferentes escalas o tipos de datos, es útil poder plasmar esas escalas y unidades en los ejes de nuestras gráficas, es por esto que matplotlib nos permite personalizar la información mostrada en los ejes.\n",
    "\n",
    "Entre las opciones más usadas están:"
   ]
  },
  {
   "cell_type": "code",
   "execution_count": null,
   "metadata": {},
   "outputs": [],
   "source": [
    "#1.Etiquetas de los ejes: Puedes establecer las etiquetas de los ejes x e y utilizando los métodos set_xlabel() y set_ylabel(), respectivamente. Por ejemplo:\n",
    "\n",
    "import matplotlib.pyplot as plt\n",
    "\n",
    "# Crear datos de ejemplo\n",
    "x = [1, 2, 3, 4, 5]\n",
    "y = [10, 5, 7, 8, 3]\n",
    "\n",
    "# Crear la gráfica\n",
    "plt.plot(x, y)\n",
    "\n",
    "# Personalizar etiquetas de los ejes\n",
    "plt.xlabel(\"Eje X\")\n",
    "plt.ylabel(\"Eje Y\")\n",
    "\n",
    "# Mostrar la gráfica\n",
    "plt.show()"
   ]
  },
  {
   "cell_type": "code",
   "execution_count": null,
   "metadata": {},
   "outputs": [],
   "source": [
    "#2. Límites de los ejes: Puedes establecer los límites de los ejes x e y utilizando los métodos set_xlim() y set_ylim(), respectivamente. Esto te permite ajustar la escala de los ejes. Por ejemplo:\n",
    "\n",
    "import matplotlib.pyplot as plt\n",
    "\n",
    "# Crear datos de ejemplo\n",
    "x = [1, 2, 3, 4, 5]\n",
    "y = [10, 5, 7, 8, 3]\n",
    "\n",
    "# Crear la gráfica\n",
    "plt.plot(x, y)\n",
    "\n",
    "# Establecer límites de los ejes\n",
    "plt.xlim(0, 6)\n",
    "plt.ylim(0, 12)\n",
    "\n",
    "# Mostrar la gráfica\n",
    "plt.show()"
   ]
  },
  {
   "cell_type": "code",
   "execution_count": null,
   "metadata": {},
   "outputs": [],
   "source": [
    "#3.Ticks y etiquetas personalizadas: Puedes personalizar los ticks (marcas) de los ejes utilizando los métodos set_xticks() y set_yticks(). Luego, puedes establecer las etiquetas correspondientes utilizando los métodos set_xticklabels() y set_yticklabels(). Esto te permite controlar las posiciones y etiquetas de los ticks en los ejes. Por ejemplo:\n",
    "import matplotlib.pyplot as plt\n",
    "\n",
    "# Crear datos de ejemplo\n",
    "x = [1, 2, 3, 4, 5]\n",
    "y = [10, 5, 7, 8, 3]\n",
    "\n",
    "# Crear la gráfica\n",
    "plt.plot(x, y)\n",
    "\n",
    "# Personalizar ticks y etiquetas en el eje x\n",
    "plt.xticks([1, 3, 5], ['Etiqueta 1', 'Etiqueta 2', 'Etiqueta 3'])\n",
    "\n",
    "# Personalizar ticks y etiquetas en el eje y\n",
    "plt.yticks([3, 7, 10], ['Baja', 'Media', 'Alta'])\n",
    "\n",
    "# Mostrar la gráfica\n",
    "plt.show()"
   ]
  },
  {
   "cell_type": "code",
   "execution_count": null,
   "metadata": {},
   "outputs": [],
   "source": []
  }
 ],
 "metadata": {
  "language_info": {
   "name": "python"
  }
 },
 "nbformat": 4,
 "nbformat_minor": 2
}
