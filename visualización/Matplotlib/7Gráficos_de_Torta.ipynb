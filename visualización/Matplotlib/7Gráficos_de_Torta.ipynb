{
 "cells": [
  {
   "cell_type": "markdown",
   "metadata": {},
   "source": [
    "Gráficos de Torta\n",
    "Un gráfico de torta es un tipo de visualización que representa datos numéricos utilizando sectores de un círculo. Cada sector corresponde a una categoría o variable y su tamaño proporcional representa la proporción o porcentaje que esa categoría representa en el conjunto de datos.\n",
    "\n",
    "La principal utilidad de un gráfico de torta es mostrar la distribución relativa de diferentes categorías o variables en un conjunto de datos. Es especialmente útil cuando se quiere resaltar las proporciones de cada categoría de manera intuitiva y fácil de entender. Algunos casos comunes de uso de gráficos de torta incluyen:\n",
    "\n",
    "1.Proporciones y porcentajes: Un gráfico de torta permite visualizar rápidamente cómo se distribuyen las proporciones de diferentes categorías en un conjunto de datos. Por ejemplo, puedes usarlo para mostrar la distribución de ventas por productos en un año determinado.\n",
    "\n",
    "2.Comparaciones sencillas: Cuando se tienen pocas categorías, un gráfico de torta puede ayudar a comparar visualmente las proporciones entre ellas. Por ejemplo, puedes utilizarlo para mostrar la distribución de votos en una elección entre diferentes candidatos.\n",
    "\n",
    "Sin embargo, hay situaciones en las que otras alternativas pueden ser más apropiadas o proporcionar una representación más clara de los datos. Algunos casos en los que conviene considerar otras opciones son:\n",
    "\n",
    "1.Demasiadas categorías: Si se tienen muchas categorías, un gráfico de torta puede volverse confuso y difícil de interpretar. En este caso, puede ser más adecuado utilizar un gráfico de barras o un gráfico de dispersión.\n",
    "\n",
    "2.Comparaciones precisas: Si se requiere una comparación precisa de las cantidades entre categorías, es mejor utilizar un gráfico de barras. Los gráficos de barras proporcionan una representación más precisa y facilitan la comparación de las magnitudes exactas.\n",
    "\n",
    "3.Datos temporales: Si los datos están relacionados con el tiempo o tienen una dimensión temporal, puede ser más adecuado utilizar gráficos de líneas o gráficos de área para resaltar las tendencias a lo largo del tiempo."
   ]
  },
  {
   "cell_type": "code",
   "execution_count": null,
   "metadata": {},
   "outputs": [],
   "source": [
    "#ejemplo\n",
    "import matplotlib.pyplot as plt\n",
    "\n",
    "# Datos de ejemplo\n",
    "categorias = ['A', 'B', 'C', 'D', 'E']\n",
    "valores = [30, 20, 15, 10, 25]\n",
    "\n",
    "# Crear el gráfico de torta\n",
    "plt.pie(valores, labels=categorias)\n",
    "\n",
    "# Mostrar el gráfico\n",
    "plt.show()"
   ]
  },
  {
   "cell_type": "markdown",
   "metadata": {},
   "source": [
    "En este ejemplo, hemos utilizado la función pie() de Matplotlib para crear el gráfico de torta. Los argumentos principales utilizados son:\n",
    "\n",
    "x: Una lista o array con los valores numéricos que representan las proporciones o tamaños de cada categoría en el gráfico de torta.\n",
    "labels: Una lista o array con las etiquetas de cada categoría. Estas etiquetas se muestran junto a los sectores de la torta.\n",
    "Además de los argumentos mencionados, hay otros que puedes utilizar para personalizar el estilo del gráfico de torta. Algunos de los más utilizados son:\n",
    "\n",
    "colors: Permite especificar los colores de los sectores de la torta. Puedes proporcionar una lista de colores en formato de cadena, como 'red', 'blue', 'green', etc., o utilizar códigos hexadecimales para los colores.\n",
    "\n",
    "explode: Permite resaltar uno o más sectores de la torta desplazándolos radialmente. Puedes proporcionar una lista o array de valores numéricos para indicar cuánto desplazamiento debe tener cada sector.\n",
    "\n",
    "shadow: Un valor booleano que indica si se debe agregar sombreado al gráfico de torta.\n",
    "\n",
    "startangle: Permite rotar el gráfico de torta inicialmente. Puedes especificar el ángulo en grados para ajustar la rotación inicial.\n",
    "\n",
    "autopct: Permite mostrar los porcentajes de cada sector en el gráfico de torta. Puedes utilizar una cadena de formato para personalizar el estilo de visualización de los porcentajes."
   ]
  },
  {
   "cell_type": "code",
   "execution_count": null,
   "metadata": {},
   "outputs": [],
   "source": [
    "#Ejemplo con algunos de estos argumentos:\n",
    "import matplotlib.pyplot as plt\n",
    "\n",
    "categorias = ['A', 'B', 'C', 'D', 'E']\n",
    "valores = [30, 20, 15, 10, 25]\n",
    "\n",
    "colors = ['lightblue', 'lightgreen', 'lightyellow', 'lightcoral', 'lightskyblue']\n",
    "explode = [0.1, 0, 0, 0, 0]\n",
    "startangle = 90\n",
    "\n",
    "plt.pie(valores, labels=categorias, colors=colors, explode=explode, startangle=startangle, shadow=True, autopct='%1.1f%%')\n",
    "\n",
    "plt.axis('equal')  # Para asegurar una representación circular\n",
    "\n",
    "plt.show()\n",
    "\n",
    "#Este ejemplo utiliza colores personalizados, resalta un sector de la torta, establece el ángulo inicial en 90 grados, agrega sombreado y muestra los porcentajes con un decimal. Recuerda ajustar los argumentos según tus necesidades y preferencias."
   ]
  },
  {
   "cell_type": "code",
   "execution_count": null,
   "metadata": {},
   "outputs": [],
   "source": [
    "#También es posible mostrar las etiquetas como una leyenda en lugar de alrededor de la torta, para esto debes utilizar plt.legend().\n",
    "import matplotlib.pyplot as plt\n",
    "\n",
    "categorias = ['A', 'B', 'C', 'D', 'E']\n",
    "valores = [30, 20, 15, 10, 25]\n",
    "\n",
    "colors = ['lightblue', 'lightgreen', 'lightyellow', 'lightcoral', 'lightskyblue']\n",
    "\n",
    "plt.pie(valores, labels=categorias, colors=colors)\n",
    "\n",
    "# Crear leyenda\n",
    "plt.legend(title=\"Categorías\", loc=\"center left\", bbox_to_anchor=(0.9, 0.5))\n",
    "\n",
    "plt.axis('equal')\n",
    "\n",
    "plt.show()"
   ]
  },
  {
   "cell_type": "markdown",
   "metadata": {},
   "source": [
    "Utilizando plt.legend con los argumentos:\n",
    "\n",
    "title: Permite establecer un título para la leyenda.\n",
    "\n",
    "loc: Indica la posición de la leyenda. Puedes utilizar códigos de posición como \"upper left\", \"lower right\", \"center\", entre otros. En este caso, hemos utilizado \"center left\" para ubicar la leyenda en el centro izquierdo del gráfico.\n",
    "\n",
    "bbox_to_anchor: Permite ajustar la posición de la leyenda utilizando coordenadas relativas al gráfico. El valor (0.9, 0.5) en este ejemplo coloca la leyenda fuera del gráfico en el lado derecho y a mitad de la altura del gráfico."
   ]
  },
  {
   "cell_type": "code",
   "execution_count": null,
   "metadata": {},
   "outputs": [],
   "source": []
  }
 ],
 "metadata": {
  "language_info": {
   "name": "python"
  }
 },
 "nbformat": 4,
 "nbformat_minor": 2
}
