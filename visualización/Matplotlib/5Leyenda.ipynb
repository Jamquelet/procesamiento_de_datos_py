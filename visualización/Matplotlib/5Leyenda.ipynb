{
 "cells": [
  {
   "cell_type": "markdown",
   "metadata": {},
   "source": [
    "#### Leyenda\n",
    "\n",
    "En Matplotlib, la leyenda (legend en inglés) es un elemento que proporciona información sobre los objetos trazados en un gráfico.\n",
    "\n",
    "La leyenda es especialmente útil cuando tienes múltiples elementos trazados en un solo gráfico y deseas proporcionar una explicación clara de cada uno de ellos.\n",
    "\n",
    "Para agregar una leyenda en Matplotlib, debes:\n",
    "\n",
    "1.Etiqueta tus elementos trazados: Para que la leyenda muestre las descripciones adecuadas, debes etiquetar tus elementos trazados utilizando el argumento label cuando llames a la función de trazado correspondiente. Por ejemplo, si trazas una línea, puedes agregar label='Mi línea' como argumento en la función plot().\n",
    "\n",
    "2.Agrega la leyenda: Después de trazar tus elementos, puedes agregar la leyenda al gráfico utilizando la función legend(). Puedes llamar a esta función sin ningún argumento para que utilice automáticamente las etiquetas especificadas en los elementos trazados."
   ]
  },
  {
   "cell_type": "code",
   "execution_count": null,
   "metadata": {},
   "outputs": [],
   "source": [
    "import matplotlib.pyplot as plt\n",
    "\n",
    "# Datos de ejemplo\n",
    "x = [1, 2, 3, 4, 5]\n",
    "y1 = [1, 4, 9, 16, 25]\n",
    "y2 = [1, 2, 3, 4, 5]\n",
    "\n",
    "# Trazar las líneas y agregar etiquetas\n",
    "plt.plot(x, y1, label='Línea 1')\n",
    "plt.plot(x, y2, label='Línea 2')\n",
    "\n",
    "# Agregar leyenda al gráfico\n",
    "plt.legend()\n",
    "\n",
    "# Personalizar la leyenda\n",
    "plt.legend(loc='upper right', fontsize='small')\n",
    "\n",
    "# Mostrar el gráfico\n",
    "plt.show()"
   ]
  },
  {
   "cell_type": "markdown",
   "metadata": {},
   "source": [
    "En este ejemplo, se trazan dos líneas utilizando la función plot(), y se agrega una etiqueta a cada una de ellas. Luego, se llama a legend() para agregar la leyenda al gráfico. Sin especificar ningún argumento, Matplotlib utiliza las etiquetas proporcionadas en los elementos trazados.\n",
    "\n",
    "Además, puedes personalizar la leyenda utilizando argumentos adicionales en la función legend(). Por ejemplo, el argumento loc se utiliza para especificar la ubicación de la leyenda en el gráfico (como 'upper right', 'lower left', 'center', etc.), y el argumento fontsize controla el tamaño de la fuente de la leyenda."
   ]
  },
  {
   "cell_type": "code",
   "execution_count": null,
   "metadata": {},
   "outputs": [],
   "source": []
  }
 ],
 "metadata": {
  "language_info": {
   "name": "python"
  }
 },
 "nbformat": 4,
 "nbformat_minor": 2
}
