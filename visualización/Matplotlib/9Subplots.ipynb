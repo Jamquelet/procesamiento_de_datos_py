{
 "cells": [
  {
   "cell_type": "markdown",
   "metadata": {},
   "source": [
    "Subplots\n",
    "\n",
    "En Matplotlib, un subplot es una forma de organizar múltiples gráficos en una única figura. Permite mostrar varios subgráficos dentro de una misma ventana de visualización.\n",
    "\n",
    "La función plt.subplot() se utiliza para crear y especificar la ubicación de cada subgráfico en la figura.\n",
    "\n",
    "plt.subplot(filas, columnas, indice)\n",
    "\n",
    "filas y columnas indican el número de filas y columnas de la cuadrícula de subgráficos.\n",
    "indice especifica la posición del subgráfico dentro de la cuadrícula. Los subgráficos se enumeran en orden de izquierda a derecha y de arriba hacia abajo, comenzando desde 1."
   ]
  },
  {
   "cell_type": "code",
   "execution_count": null,
   "metadata": {},
   "outputs": [],
   "source": [
    "#ejemplo\n",
    "\n",
    "#1.Primero creamos los valores a grafica\n",
    "import matplotlib.pyplot as plt\n",
    "import numpy as np\n",
    "\n",
    "# Generamos una lista de valores\n",
    "x = np.linspace(0, 2*np.pi, 100)\n",
    "# Aplicamos la función elemento a elemento\n",
    "y1 = np.sin(x)\n",
    "y2 = np.cos(x)\n",
    "y3 = np.tan(x)\n",
    "y4 = np.exp(x)\n",
    "\n",
    "#2.Graficamos los subplots\n",
    "\n",
    "# Creamos una figura con una cuadrícula de 2x2\n",
    "plt.subplot(2, 2, 1)\n",
    "plt.plot(x, y1)\n",
    "plt.title(\"Sin(x)\")\n",
    "\n",
    "plt.subplot(2, 2, 2)\n",
    "plt.plot(x, y2)\n",
    "plt.title(\"Cos(x)\")\n",
    "\n",
    "plt.subplot(2, 2, 3)\n",
    "plt.plot(x, y3)\n",
    "plt.title(\"Tan(x)\")\n",
    "\n",
    "plt.subplot(2, 2, 4)\n",
    "plt.plot(x, y4)\n",
    "plt.title(\"Exp(x)\")\n",
    "\n",
    "# Ajustar los espacios entre los subgráficos\n",
    "plt.tight_layout()\n",
    "\n",
    "# Mostrar la figura con los subgráficos\n",
    "plt.show()"
   ]
  },
  {
   "cell_type": "markdown",
   "metadata": {},
   "source": [
    "Este ejemplo crea una figura con una cuadrícula de 2 filas y 2 columnas utilizando plt.subplot(). Luego, utilizamos plt.plot() para trazar diferentes funciones en cada uno de los subgráficos.\n",
    "\n",
    "El índice proporcionado en cada llamada a plt.subplot() indica la posición del subgráfico en la cuadrícula. Por ejemplo, plt.subplot(2, 2, 1) crea un subgráfico en la primera posición de la cuadrícula, plt.subplot(2, 2, 2) crea un subgráfico en la segunda posición, y así sucesivamente.\n",
    "\n",
    "Después de crear los subgráficos, puedes personalizarlos y agregar títulos, etiquetas, leyendas, etc. Finalmente, plt.tight_layout() se utiliza para ajustar los espacios entre los subgráficos y evitar superposiciones."
   ]
  },
  {
   "cell_type": "code",
   "execution_count": null,
   "metadata": {},
   "outputs": [],
   "source": []
  }
 ],
 "metadata": {
  "language_info": {
   "name": "python"
  }
 },
 "nbformat": 4,
 "nbformat_minor": 2
}
