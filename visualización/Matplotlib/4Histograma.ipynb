{
 "cells": [
  {
   "cell_type": "markdown",
   "metadata": {},
   "source": [
    "###### Histograma\n",
    "\n",
    "Un histograma, también conocido como gráfico de barras, es una representación visual utilizada para mostrar la distribución de una variable numérica. Consiste en una serie de barras rectangulares adyacentes, donde la altura de cada barra representa la frecuencia o la cantidad de observaciones que caen en un intervalo específico.\n",
    "\n",
    "\n",
    "El eje horizontal de un histograma representa los intervalos o rangos de valores de la variable que se está analizando, mientras que el eje vertical muestra la frecuencia o la cantidad de observaciones dentro de cada intervalo.\n",
    "\n",
    "El histograma es especialmente útil para visualizar la forma de una distribución de datos y su dispersión. Permite identificar patrones, tendencias, concentraciones, simetrías o sesgos en los datos.\n",
    "\n",
    "Algunas de las aplicaciones más comunes de los histogramas son:\n",
    "\n",
    "1.Análisis de datos: El histograma permite obtener una visión general de la distribución de los datos y examinar características como la asimetría, la concentración o la dispersión de los valores.\n",
    "\n",
    "2.Identificación de patrones: El histograma puede revelar patrones en los datos, como la presencia de picos, modas o clusters, lo que ayuda a comprender mejor la estructura subyacente de los datos.\n",
    "\n",
    "3.Análisis comparativo: Se pueden utilizar histogramas para comparar la distribución de una variable en diferentes subgrupos o categorías, lo que permite identificar diferencias o similitudes en la distribución entre ellos.\n",
    "\n",
    "4.Detección de valores atípicos: El histograma puede revelar valores extremos o inusuales en los datos, ya que estos puntos pueden estar separados de la distribución principal o caer en intervalos con frecuencias muy bajas.\n",
    "\n",
    "5.Toma de decisiones: El análisis de la forma y la distribución de los datos a través del histograma puede ayudar en la toma de decisiones basadas en evidencias, como establecer umbrales o límites para ciertas métricas o identificar áreas de interés o enfoque en un conjunto de datos.\n",
    "\n",
    "\n",
    "###### Bins\n",
    "\n",
    "En un histograma, los bins son los intervalos o rangos en los que se divide el rango de valores de la variable que se está analizando. Cada barra del histograma representa la frecuencia o la cantidad de observaciones que caen dentro de un bin específico.\n",
    "\n",
    "Seleccionar adecuadamente los bins es importante para obtener una representación precisa y significativa de los datos. Una elección incorrecta de los bins puede ocultar información importante o crear una representación engañosa de la distribución.\n",
    "\n",
    "Existen diferentes métodos para seleccionar los bins en un histograma, dos de estos son:\n",
    "\n",
    "1.Regla de la raíz cuadrada: Este método calcula el número de bins aproximadamente igual a la raíz cuadrada del número total de observaciones en los datos. Es un enfoque simple y rápido, pero puede no ser el más adecuado en todos los casos.\n",
    "\n",
    "2.Regla de Sturges: Esta regla sugiere calcular el número de bins como aproximadamente 1 + log2(N), donde N es el número total de observaciones. Es un enfoque comúnmente utilizado, pero puede no funcionar bien para conjuntos de datos pequeños o con distribuciones no normales.\n",
    "\n",
    "En Python, al utilizar la función hist() de Matplotlib, puedes especificar el número de bins utilizando el argumento bins.\n",
    "\n",
    "Por ejemplo:"
   ]
  },
  {
   "cell_type": "code",
   "execution_count": null,
   "metadata": {},
   "outputs": [],
   "source": [
    "import matplotlib.pyplot as plt\n",
    "\n",
    "data = [2, 3, 5, 5, 5, 6, 6, 7, 8, 9, 10, 11, 11, 11, 12, 13, 15]\n",
    "\n",
    "plt.hist(data, bins=5)\n",
    "plt.show()"
   ]
  },
  {
   "cell_type": "code",
   "execution_count": null,
   "metadata": {},
   "outputs": [],
   "source": [
    "\"\"\" Ejemplo: Distribución de edades\n",
    "Supongamos que estás analizando la distribución de las edades de un grupo de personas en una muestra de investigación. Tienes una lista de edades y quieres visualizar cómo se distribuyen. \"\"\"\n",
    "\n",
    "import matplotlib.pyplot as plt\n",
    "\n",
    "edades = [22, 25, 30, 33, 35, 38, 40, 40, 42, 45, 48, 50, 52, 55, 60, 62, 65, 70, 72, 75]\n",
    "\n",
    "plt.hist(edades, bins=5, edgecolor='black')\n",
    "plt.title('Distribución de Edades')\n",
    "plt.xlabel('Edades')\n",
    "plt.ylabel('Frecuencia')\n",
    "\n",
    "plt.show()\n",
    "\n",
    "#El argumento edgecolor='black' se utiliza para agregar bordes negros a las barras del histograma, lo que mejora la legibilidad. También se agregan títulos y etiquetas a los ejes para describir la información del gráfico."
   ]
  },
  {
   "cell_type": "code",
   "execution_count": null,
   "metadata": {},
   "outputs": [],
   "source": []
  }
 ],
 "metadata": {
  "language_info": {
   "name": "python"
  }
 },
 "nbformat": 4,
 "nbformat_minor": 2
}
