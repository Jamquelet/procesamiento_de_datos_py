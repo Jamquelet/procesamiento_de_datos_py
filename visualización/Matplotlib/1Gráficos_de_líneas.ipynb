{
 "cells": [
  {
   "cell_type": "markdown",
   "metadata": {},
   "source": [
    "#### Gráficos de líneas\n",
    "\n",
    "Un gráfico de líneas es un tipo de visualización que muestra la relación y la tendencia de un conjunto de datos a lo largo de un eje horizontal (eje x) y un eje vertical (eje y). En este tipo de gráfico, los puntos de datos se conectan mediante segmentos de línea recta, lo que permite ver la evolución de los datos a través del tiempo o de una variable independiente.\n",
    "\n",
    "En un gráfico de líneas, el eje x generalmente representa una variable independiente, como el tiempo, los períodos o las categorías, mientras que el eje y representa la variable dependiente, es decir, los valores numéricos que deseas visualizar. Cada punto en el gráfico corresponde a un par de valores (x, y) y la línea que los conecta muestra cómo cambian estos valores a lo largo del eje x.\n",
    "\n",
    "Además de representar una única serie de datos, los gráficos de líneas también pueden mostrar múltiples líneas en el mismo gráfico, lo que permite comparar diferentes series o categorías en una sola visualización.\n",
    "\n",
    "Los gráficos de líneas se utilizan en el análisis de datos, finanzas, ciencias sociales, meteorología, seguimiento de métricas empresariales y muchas otras áreas donde se requiere visualizar la evolución y las tendencias de los datos a lo largo del tiempo o una variable independiente.\n",
    "\n",
    "Ejemplo\n",
    "Supongamos que deseas visualizar la evolución de las ventas mensuales de una empresa durante un año. Tienes los siguientes datos:\n",
    "\n",
    "Ventas mensuales (en miles de dólares):\n",
    "\n",
    "Enero: 120\n",
    "Febrero: 150\n",
    "Marzo: 135\n",
    "Abril: 170\n",
    "Mayo: 200\n",
    "Junio: 250\n",
    "Julio: 220\n",
    "Agosto: 240\n",
    "Septiembre: 280\n",
    "Octubre: 300\n",
    "Noviembre: 280\n",
    "Diciembre: 320\n",
    "Usamos matplotlib para graficar"
   ]
  },
  {
   "cell_type": "code",
   "execution_count": null,
   "metadata": {},
   "outputs": [],
   "source": [
    "import matplotlib.pyplot as plt\n",
    "\n",
    "meses = ['Ene', 'Feb', 'Mar', 'Abr', 'May', 'Jun', 'Jul', 'Ago', 'Sep', 'Oct', 'Nov', 'Dic']\n",
    "ventas = [120, 150, 135, 170, 200, 250, 220, 240, 280, 300, 280, 320]\n",
    "\n",
    "plt.plot(meses, ventas, marker='o', linestyle='-', color='blue')\n",
    "plt.title('Ventas Mensuales')\n",
    "plt.xlabel('Meses')\n",
    "plt.ylabel('Ventas (en miles de dólares)')\n",
    "\n",
    "plt.show()"
   ]
  },
  {
   "cell_type": "markdown",
   "metadata": {},
   "source": [
    "marker='o': Este argumento se utiliza para especificar el marcador que se mostrará en cada punto de datos en el gráfico. En este caso, se utiliza el marcador 'o', que representa un círculo. De esta manera, se mostrará un círculo en cada punto de datos del gráfico.\n",
    "\n",
    "linestyle='-': Este argumento define el estilo de línea utilizada para conectar los puntos de datos en el gráfico. En este caso, se utiliza el estilo de línea '-', que representa una línea continua. Esto significa que los puntos de datos se conectarán mediante segmentos de línea recta continua.\n",
    "\n",
    "color='blue': Este argumento establece el color de la línea y los marcadores en el gráfico. En este caso, se utiliza el color 'blue', que representa el azul. Puedes especificar otros colores utilizando nombres de colores predefinidos como 'red', 'green', 'purple', o puedes utilizar valores hexadecimales como '#FF0000' para el rojo.\n",
    "\n",
    "Estos argumentos te permiten personalizar la apariencia del gráfico de líneas según tus preferencias."
   ]
  },
  {
   "cell_type": "code",
   "execution_count": null,
   "metadata": {},
   "outputs": [],
   "source": []
  }
 ],
 "metadata": {
  "language_info": {
   "name": "python"
  }
 },
 "nbformat": 4,
 "nbformat_minor": 2
}
