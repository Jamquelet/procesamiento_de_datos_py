{
 "cells": [
  {
   "cell_type": "markdown",
   "metadata": {},
   "source": [
    "Estilos\n",
    "Podemos personalizar el estilo de los gráficos o utilizar estilos incluídos, estos cambian las combinaciones de colores, tipografías, tamaños de fuente y otras propiedades estéticas.\n",
    "\n",
    "Matplotlib proporciona varios estilos incorporados, como \"default\", \"ggplot\", \"seaborn\", \"fivethirtyeight\", entre otros.\n",
    "\n",
    "Para aplicar un estilo en Matplotlib, puedes utilizar la función plt.style.use().\n",
    "\n",
    "Veamos un ejemplo usando el estilo \"fivethirtyeight\":"
   ]
  },
  {
   "cell_type": "code",
   "execution_count": null,
   "metadata": {},
   "outputs": [],
   "source": [
    "import matplotlib.pyplot as plt\n",
    "\n",
    "# Aplicar el estilo \"fivethirtyeight\"\n",
    "plt.style.use('fivethirtyeight')\n",
    "\n",
    "# Datos de ejemplo\n",
    "x = [1, 2, 3, 4, 5]\n",
    "y = [5, 4, 3, 2, 1]\n",
    "\n",
    "# Crear el gráfico de líneas\n",
    "plt.plot(x, y)\n",
    "\n",
    "# Personalizar el gráfico\n",
    "plt.title(\"Gráfico de líneas - Estilo fivethirtyeight\")\n",
    "plt.xlabel(\"Eje X\")\n",
    "plt.ylabel(\"Eje Y\")\n",
    "\n",
    "# Mostrar el gráfico\n",
    "plt.show()\n"
   ]
  },
  {
   "cell_type": "code",
   "execution_count": null,
   "metadata": {},
   "outputs": [],
   "source": []
  }
 ],
 "metadata": {
  "language_info": {
   "name": "python"
  }
 },
 "nbformat": 4,
 "nbformat_minor": 2
}
