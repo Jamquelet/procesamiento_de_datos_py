{
 "cells": [
  {
   "cell_type": "markdown",
   "metadata": {},
   "source": [
    "Random Forest\n",
    "\n",
    "Un Random Forest (bosque aleatorio) es un algoritmo de aprendizaje automático que se basa en la técnica de ensamble y utiliza múltiples árboles de decisión para realizar predicciones. Es una extensión del bagging que agrega aleatoriedad en la construcción de los árboles para mejorar aún más el rendimiento y reducir la tendencia al sobreajuste.\n",
    "\n",
    "La idea detrás de un Random Forest es combinar la predicción de múltiples árboles de decisión independientes y no correlacionados de la siguiente forma:\n",
    "\n",
    "1.Muestreo aleatorio de datos: En lugar de utilizar todo el conjunto de datos de entrenamiento para cada árbol, se realiza un muestreo aleatorio con reemplazo, conocido como muestreo bootstrap, para seleccionar una muestra de entrenamiento para cada árbol. Esto implica que cada árbol ve una versión ligeramente diferente del conjunto de datos, lo que introduce variabilidad y diversidad en los modelos.\n",
    "\n",
    "2.Muestreo aleatorio de características: Durante la construcción de cada árbol, en cada nodo se selecciona un subconjunto aleatorio de características para realizar la división óptima. Esto significa que cada árbol considera solo un subconjunto de características en cada división, lo que ayuda a decorrelacionar aún más los árboles y a capturar diferentes aspectos de los datos.\n",
    "\n",
    "Una vez que se han construido todos los árboles, las predicciones se realizan mediante votación mayoritaria en el caso de la clasificación o promediado en el caso de la regresión. La predicción final es el resultado combinado de todas las predicciones de los árboles individuales.\n",
    "\n",
    "El Random Forest es conocido por su capacidad para manejar grandes conjuntos de datos, alta dimensionalidad y problemas con características categóricas y numéricas. También ofrece varias ventajas, como la capacidad de identificar características importantes, la resistencia al sobreajuste y la capacidad de manejar datos faltantes y valores atípicos."
   ]
  },
  {
   "cell_type": "code",
   "execution_count": null,
   "metadata": {},
   "outputs": [],
   "source": [
    "\"\"\" Implementación\n",
    "Asumiendo que ya se cargó el dataset:\n",
    "\n",
    "Para clasificación: \"\"\"\n",
    "\n",
    "from sklearn.ensemble import RandomForestClassifier\n",
    "\n",
    "# Crear una instancia del Random Forest Classifier\n",
    "rf = RandomForestClassifier(n_estimators=10, random_state=42)\n",
    "\n",
    "# Entrenar el modelo\n",
    "rf.fit(X_train, y_train)\n",
    "\n",
    "# Realizar predicciones en el conjunto de prueba\n",
    "y_pred = rf.predict(X_test)\n",
    "\n",
    "# Calcular la precisión del modelo\n",
    "accuracy = accuracy_score(y_test, y_pred)\n",
    "print(\"Precisión del modelo:\", accuracy)\n",
    "#Precisión del modelo: 0.9333333333333333\n"
   ]
  },
  {
   "cell_type": "code",
   "execution_count": null,
   "metadata": {},
   "outputs": [],
   "source": []
  }
 ],
 "metadata": {
  "language_info": {
   "name": "python"
  }
 },
 "nbformat": 4,
 "nbformat_minor": 2
}
