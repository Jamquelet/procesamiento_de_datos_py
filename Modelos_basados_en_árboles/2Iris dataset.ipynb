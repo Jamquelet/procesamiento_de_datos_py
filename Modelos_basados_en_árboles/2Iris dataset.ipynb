{
 "cells": [
  {
   "cell_type": "markdown",
   "metadata": {},
   "source": [
    "El dataset de Iris es un conjunto de datos utilizado en el campo del aprendizaje automático como uno de los primeros datasets reales para explicar el uso de modelos de clasificación.\n",
    "\n",
    "El dataset de Iris fue presentado por el estadístico y biólogo británico Ronald Fisher en 1936 en su artículo \"The use of multiple measurements in taxonomic problems\". Fisher recopiló los datos para ilustrar la aplicación de métodos estadísticos en la clasificación de especies de flores Iris.\n",
    "\n",
    "El dataset consta de 150 instancias, donde cada instancia tiene cuatro atributos o características medidos en centímetros: longitud del sépalo, ancho del sépalo, longitud del pétalo y ancho del pétalo. Cada instancia está etiquetada con la especie a la que pertenece, estas son: setosa, versicolor y virginica.\n",
    "\n",
    "Veamos cómo cargar el dataset usando sklearn:"
   ]
  },
  {
   "cell_type": "code",
   "execution_count": null,
   "metadata": {},
   "outputs": [],
   "source": [
    "from sklearn import datasets\n",
    "\n",
    "# Cargamos el dataset\n",
    "iris = datasets.load_iris(as_frame=True)\n",
    "X = iris.data\n",
    "y = iris.target #\n",
    "\n",
    "#Al definir as_frame como True, X y y son un dataframe y una serie respectivamente, caso contrario ambos serán NumPy arrays."
   ]
  },
  {
   "cell_type": "markdown",
   "metadata": {},
   "source": [
    "El dataframe X contiene los siguientes valores:\n",
    "\n",
    "sepal length (cm)\tsepal width (cm)\tpetal length (cm)\tpetal width (cm)\n",
    "\n",
    "5.1\t3.5\t1.4\t0.2\n",
    "4.9\t3.0\t1.4\t0.2\n",
    "4.7\t3.2\t1.3\t0.2\n",
    "4.6\t3.1\t1.5\t0.2\n",
    "5.0\t3.6\t1.4\t0.2\n",
    "...\t...\t...\t...\n",
    "6.7\t3.0\t5.2\t2.3\n",
    "6.3\t2.5\t5.0\t1.9\n",
    "6.5\t3.0\t5.2\t2.0\n",
    "6.2\t3.4\t5.4\t2.3\n",
    "5.9\t3.0\t5.1\t1.8\n",
    "\n",
    "\n",
    "El vector y contiene\n",
    "\n",
    "[0 0 0 0 0 0 0 0 0 0 0 0 0 0 0 0 0 0 0 0 0 0 0 0 0 0 0 0 0 0 0 0 0 0 0 0 0\n",
    " 0 0 0 0 0 0 0 0 0 0 0 0 0 1 1 1 1 1 1 1 1 1 1 1 1 1 1 1 1 1 1 1 1 1 1 1 1\n",
    " 1 1 1 1 1 1 1 1 1 1 1 1 1 1 1 1 1 1 1 1 1 1 1 1 1 1 2 2 2 2 2 2 2 2 2 2 2\n",
    " 2 2 2 2 2 2 2 2 2 2 2 2 2 2 2 2 2 2 2 2 2 2 2 2 2 2 2 2 2 2 2 2 2 2 2 2 2\n",
    " 2 2]\n",
    "\n",
    "dónde\n",
    "\n",
    "setosa: 0\n",
    "versicolon: 1\n",
    "virginica: 2\n",
    "\n",
    "Debido a que el dataset contiene 4 atributos, no podemos graficarlo directamente, sin embargo podemos aplicar algún método de reducción de dimensionalidad y graficar esa proyección a 3 dimensiones."
   ]
  },
  {
   "cell_type": "code",
   "execution_count": null,
   "metadata": {},
   "outputs": [],
   "source": []
  }
 ],
 "metadata": {
  "language_info": {
   "name": "python"
  }
 },
 "nbformat": 4,
 "nbformat_minor": 2
}
