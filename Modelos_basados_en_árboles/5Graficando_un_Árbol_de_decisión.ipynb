{
 "cells": [
  {
   "cell_type": "code",
   "execution_count": null,
   "metadata": {},
   "outputs": [],
   "source": [
    "#Sklearn contiene herramientas para graficar un árbol de decisión ya entrenado.\n",
    "\n",
    "#Veamos un ejemplo con el dataset de Iris:\n",
    "\n",
    "#1.Importamos las librerías (asumimos que el dataset ya está cargado)\n",
    "from sklearn import tree\n",
    "import matplotlib.pyplot as plt\n",
    "\n",
    "#2.Creamos una instancia del clasificador de árbol de decisión y ajustamos el modelo a los datos:\n",
    "clf = DecisionTreeClassifier()\n",
    "clf.fit(X, y)\n",
    "\n",
    "#3.Generamos el gráfico del árbol de decisión:\n",
    "fig, ax = plt.subplots(figsize=(12, 12))\n",
    "tree.plot_tree(clf, filled=True, feature_names=iris.feature_names, class_names=iris.target_names, ax=ax)\n",
    "plt.show()\n",
    "\n",
    "\"\"\" Se utilizan los siguientes parámetros\n",
    "\n",
    "clf: el clasificador de árbol de decisión entrenado.\n",
    "filled=True: se utiliza para colorear los nodos según la clase mayoritaria en cada nodo.\n",
    "feature_names: los nombres de las características utilizadas en el árbol de decisión.\n",
    "class_names: los nombres de las clases. \"\"\"\n",
    "\n",
    "#El gráfico resultante muestra el flujo de decisiones del árbol, las características utilizadas en cada nodo y las clases asignadas a las hojas del árbol."
   ]
  }
 ],
 "metadata": {
  "language_info": {
   "name": "python"
  }
 },
 "nbformat": 4,
 "nbformat_minor": 2
}
