{
 "cells": [
  {
   "cell_type": "code",
   "execution_count": 7,
   "metadata": {},
   "outputs": [
    {
     "data": {
      "text/plain": [
       "1"
      ]
     },
     "execution_count": 7,
     "metadata": {},
     "output_type": "execute_result"
    }
   ],
   "source": [
    "class test ():\n",
    "    id=0\n",
    "    def __init__ (self,id):\n",
    "        self.id=id\n",
    "        id=2\n",
    "t = test(1)\n",
    "t.id"
   ]
  },
  {
   "cell_type": "markdown",
   "metadata": {},
   "source": [
    "# Cual es la complejidad temporal promedio del algoritmo Quivkksort:\n",
    "\n",
    "La complejidad temporal promedio del algoritmo QuickSort es generalmente O(n log n), donde \"n\" representa el número de elementos a ordenar. Esto es válido en promedio, ya que QuickSort es un algoritmo de ordenamiento en el que la partición de los elementos no siempre divide el arreglo en dos partes iguales, lo que puede llevar a ciertos casos en los que su rendimiento es peor (peor caso O(n^2)), pero en promedio, es altamente eficiente y se espera que tenga un rendimiento de O(n log n)."
   ]
  },
  {
   "cell_type": "markdown",
   "metadata": {},
   "source": [
    "\n",
    "# Método para buscar un números en un array:\n",
    "\n",
    "dos de los más comunes son la búsqueda lineal y la búsqueda binaria. Aquí tienes una descripción de ambos métodos:\n",
    "\n",
    "Búsqueda Lineal (Sequential Search):\n",
    "\n",
    "Este método implica recorrer el array uno por uno hasta encontrar el número deseado o determinar que no está presente.\n",
    "Es sencillo de implementar, pero no es muy eficiente para arrays grandes.\n",
    "Ejemplo en pseudocódigo:\n",
    "\n",
    "Para cada elemento en el array:\n",
    "    Si el elemento es igual al número deseado:\n",
    "        El número se encontró en la posición actual.\n",
    "Búsqueda Binaria (Binary Search):\n",
    "\n",
    "Este método requiere que el array esté ordenado previamente.\n",
    "Divide repetidamente el array por la mitad y compara el número buscado con el elemento en el medio.\n",
    "Si el número es mayor, se busca en la mitad derecha; si es menor, en la mitad izquierda.\n",
    "Este algoritmo es más eficiente para arrays ordenados y tiene una complejidad temporal de O(log n).\n",
    "Ejemplo en pseudocódigo:\n",
    "\n",
    "\n",
    "Inicializar izquierda y derecha al principio y final del array.\n",
    "Mientras izquierda <= derecha:\n",
    "    Calcular el punto medio.\n",
    "    Si el número deseado es igual al elemento en el punto medio:\n",
    "        El número se encontró en la posición del punto medio.\n",
    "    Si el número deseado es mayor que el elemento en el punto medio:\n",
    "        Actualizar izquierda al punto medio + 1.\n",
    "    Si el número deseado es menor que el elemento en el punto medio:\n",
    "        Actualizar derecha al punto medio - 1.\n",
    "        \n",
    "El método que elijas dependerá de la naturaleza de tus datos y si el array está ordenado o no. La búsqueda binaria es más eficiente en términos de tiempo, pero solo funciona en arrays ordenados, mientras que la búsqueda lineal es más versátil y puede usarse en cualquier array."
   ]
  },
  {
   "cell_type": "markdown",
   "metadata": {},
   "source": [
    "# Estructura de datos para procedimiento recursivo:\n",
    "\n",
    "Cuando estás implementando un procedimiento recursivo, generalmente no necesitas una estructura de datos especial, ya que la recursión se basa en la pila de llamadas del programa para gestionar la información de las llamadas recursivas. Sin embargo, a veces puedes usar estructuras de datos para facilitar la recursión o para almacenar información adicional. Aquí hay algunas estructuras de datos que puedes utilizar en procedimientos recursivos:\n",
    "\n",
    "Pila (Stack): Puedes utilizar una pila para gestionar el estado de las llamadas recursivas. Esto es útil cuando deseas realizar una búsqueda en profundidad (DFS) o resolver problemas como las Torres de Hanoi.\n",
    "\n",
    "Cola (Queue): En algunos casos, como la búsqueda en amplitud (BFS) o el procesamiento de elementos en un orden específico, una cola puede ser útil.\n",
    "\n",
    "Listas o Arreglos: Puedes utilizar listas o arreglos para mantener una colección de elementos que estás procesando recursivamente. Por ejemplo, en un algoritmo de ordenamiento como MergeSort, se utilizan arreglos para dividir y combinar elementos.\n",
    "\n",
    "Árboles o Gráficos: Para algoritmos recursivos que operan en estructuras de datos como árboles o gráficos, a menudo se utiliza una estructura de datos que refleja la naturaleza del problema. Esto podría ser un árbol binario, un árbol n-ario, un grafo dirigido, etc.\n",
    "\n",
    "Estructuras de Datos Propias: En algunos casos, puedes definir tu propia estructura de datos para mantener información específica del problema que estás resolviendo de manera recursiva. Esto es común en algoritmos personalizados.\n",
    "\n",
    "La elección de la estructura de datos depende de la naturaleza del problema que estás resolviendo. Las estructuras de datos mencionadas anteriormente son solo ejemplos, y es importante adaptar la elección de la estructura de datos a las necesidades específicas de tu algoritmo recursivo."
   ]
  },
  {
   "cell_type": "markdown",
   "metadata": {},
   "source": [
    "# Mejor uso para un árbol:\n",
    "\n",
    "Los árboles son estructuras de datos ampliamente utilizadas en informática y tienen muchos usos, cada uno adaptado a diferentes escenarios. Aquí hay algunos de los mejores usos para un árbol:\n",
    "\n",
    "Árbol Binario de Búsqueda (BST): Un árbol binario de búsqueda es excelente para mantener datos ordenados de manera eficiente. Puede utilizarse en aplicaciones como diccionarios, listas ordenadas y bases de datos para realizar búsquedas, inserciones y eliminaciones rápidas.\n",
    "\n",
    "Árbol AVL y Árbol Rojo-Negro: Estas son variantes de árboles de búsqueda utilizadas para garantizar un equilibrio en el árbol, lo que mejora el rendimiento en operaciones de búsqueda, inserción y eliminación. Se usan comúnmente en bases de datos y sistemas de almacenamiento de datos.\n",
    "\n",
    "Árbol de Expresiones: Los árboles de expresiones se utilizan en la evaluación de expresiones matemáticas, análisis sintáctico de lenguajes de programación y compiladores.\n",
    "\n",
    "Árbol Trie: Los árboles Trie se utilizan en estructuras de datos para almacenar y buscar palabras o cadenas de texto de manera eficiente, como en diccionarios y motores de búsqueda.\n",
    "\n",
    "Árbol de Segmento: Se usa en algoritmos de consulta de rangos, como encontrar el mínimo o máximo en un rango específico de elementos en una lista.\n",
    "\n",
    "Árbol de Desición: En aprendizaje automático y minería de datos, los árboles de decisión se utilizan para clasificar datos y tomar decisiones basadas en características específicas.\n",
    "\n",
    "Árbol de Huffman: Se utiliza en compresión de datos para codificar datos de manera eficiente, como en formatos de compresión de archivos.\n",
    "\n",
    "Árbol Genealógico: Para representar la genealogía de individuos o relaciones familiares.\n",
    "\n",
    "Árbol de Redes: En enrutamiento de redes, como el árbol de expansión mínima en protocolos de enrutamiento.\n",
    "\n",
    "Árbol de Directorios en Sistemas de Archivos: Para organizar y estructurar el acceso a archivos y directorios en sistemas de archivos.\n",
    "\n",
    "La elección del tipo de árbol depende de la aplicación específica y los requisitos de rendimiento. Los árboles son versátiles y se utilizan en una amplia gama de problemas en informática y ciencia de la computación."
   ]
  },
  {
   "cell_type": "markdown",
   "metadata": {},
   "source": [
    "# Complejidad temporal de insertar un elemento de un árbol balanceado en el peor de los casos:\n",
    "\n",
    "La complejidad temporal de insertar un elemento en un árbol balanceado en el peor de los casos suele ser O(log n), donde \"n\" representa el número de nodos en el árbol. Esto se aplica a árboles de búsqueda balanceados como los Árboles Binarios de Búsqueda (BST) auto-balanceados, como los Árboles AVL o los Árboles Rojo-Negro.\n",
    "\n",
    "La razón por la que la inserción en un árbol balanceado tiene esta complejidad en el peor de los casos se debe a que, en un árbol balanceado, la altura del árbol está controlada. En un árbol balanceado, la altura máxima está limitada por un factor logarítmico del número de nodos. Esto significa que, incluso en el peor de los casos, donde el elemento que estás insertando se coloca en la hoja más profunda del árbol, la altura del árbol no crece de manera lineal con el número de nodos, sino que crece de manera logarítmica, lo que resulta en una complejidad O(log n) para la inserción.\n",
    "\n",
    "En contraste, en un Árbol Binario de Búsqueda no balanceado, la altura del árbol podría crecer en el peor de los casos de manera lineal con el número de nodos, lo que daría lugar a una complejidad O(n) para la inserción. Por esta razón, los árboles balanceados son preferidos en aplicaciones donde se necesitan operaciones de inserción y búsqueda eficientes."
   ]
  },
  {
   "cell_type": "markdown",
   "metadata": {},
   "source": [
    "# Si tuviera que ordenar un array muy grande almacenado en fisco que no cabe en memoria que algoritmo usaría \n",
    "\n",
    "Cuando necesitas ordenar un conjunto de datos tan grande que no cabe en memoria principal, puedes recurrir a algoritmos de ordenación externa. Estos algoritmos están diseñados para manejar grandes conjuntos de datos almacenados en dispositivos de almacenamiento secundario, como discos duros. Uno de los algoritmos más comunes para este propósito es el \"Merge-Sort Externo\". Aquí está cómo funciona:\n",
    "\n",
    "División en Bloques: El conjunto de datos se divide en bloques más pequeños que caben en memoria. Estos bloques se leen desde el disco uno a la vez.\n",
    "\n",
    "Ordenación Interna: Cada bloque se ordena internamente en memoria utilizando un algoritmo de ordenación, como QuickSort o MergeSort.\n",
    "\n",
    "Fusión Externa: Los bloques ordenados se fusionan de manera ordenada para crear un único archivo ordenado en disco. Este proceso se realiza de manera eficiente, ya que se compara y fusiona bloques en lugar de elementos individuales.\n",
    "\n",
    "Repetición: Los pasos 1 a 3 se repiten hasta que todo el conjunto de datos esté completamente ordenado.\n",
    "\n",
    "Este proceso de ordenación externa se asegura de que solo se mantengan en memoria los bloques de datos que caben cómodamente, lo que lo hace adecuado para conjuntos de datos muy grandes que no caben en la memoria RAM.\n",
    "\n",
    "Sin embargo, ten en cuenta que la implementación de algoritmos de ordenación externa puede ser bastante compleja, ya que implica la gestión de lectura y escritura de bloques en el disco. Puede requerir un conocimiento detallado de E/S (entrada/salida) eficiente y manipulación de archivos. También es importante considerar el rendimiento de E/S del dispositivo de almacenamiento secundario, ya que esto puede ser un factor limitante en la velocidad de ordenación."
   ]
  },
  {
   "cell_type": "markdown",
   "metadata": {},
   "source": [
    "# Cuál no es framework de JS jQuery hibernate prototype dojo\n",
    "\n",
    "\n",
    "El framework de JavaScript que no forma parte de la lista de opciones que proporcionaste es \"Hibernate\". Los otros tres, jQuery, Prototype y Dojo, son frameworks de JavaScript. Hibernate, por otro lado, es un framework de mapeo objeto-relacional (ORM) utilizado principalmente en el desarrollo de aplicaciones en lenguajes como Java para facilitar la interacción con bases de datos relacionales. No está relacionado con JavaScript ni con el desarrollo de aplicaciones web en ese contexto."
   ]
  },
  {
   "cell_type": "markdown",
   "metadata": {},
   "source": [
    "# Diferencia null undefined\n",
    "\n",
    "null:\n",
    "\n",
    "Es un valor que representa intencionalmente la ausencia de cualquier objeto o valor.\n",
    "Puede ser asignado explícitamente a una variable para indicar que la variable no contiene ningún valor válido.\n",
    "Cuando comparas una variable que contiene \"null\" con otro valor, obtendrás \"false\" a menos que compares explícitamente con \"null\".\n",
    "Ejemplo:\n",
    "\n",
    "javascript\n",
    "\n",
    "var miVariable = null;\n",
    "console.log(miVariable); // null\n",
    "console.log(miVariable === null); // true\n",
    "console.log(miVariable == undefined); // true\n",
    "\n",
    "undefined:\n",
    "\n",
    "Indica que una variable existe pero no se le ha asignado un valor.\n",
    "También es el valor de retorno de una función que no devuelve explícitamente ningún valor.\n",
    "Al comparar una variable que no ha sido inicializada con \"undefined,\" obtendrás \"true\" al compararla con \"undefined.\"\n",
    "\n",
    "Ejemplo:\n",
    "\n",
    "javascript\n",
    "\n",
    "var otraVariable;\n",
    "console.log(otraVariable); // undefined\n",
    "console.log(otraVariable === undefined); // true\n",
    "En resumen, \"null\" es un valor que se utiliza para representar la ausencia de valor de manera intencionada, mientras que \"undefined\" se utiliza para indicar que una variable existe pero no tiene un valor asignado. Ambos son útiles en diferentes contextos y deben manejarse de manera apropiada en tu código para evitar errores."
   ]
  },
  {
   "cell_type": "markdown",
   "metadata": {},
   "source": [
    "# Http header crucial en seguridad:\n",
    "\n",
    "Existen varios encabezados HTTP cruciales en términos de seguridad que ayudan a proteger las aplicaciones web y a prevenir ataques. Algunos de los encabezados HTTP importantes para la seguridad son:\n",
    "\n",
    "HTTP Strict Transport Security (HSTS): El encabezado HSTS asegura que la comunicación entre el navegador y el servidor se realice a través de HTTPS en lugar de HTTP. Ayuda a prevenir ataques como el ataque \"Man-in-the-Middle\" (MITM).\n",
    "\n",
    "Content Security Policy (CSP): CSP permite especificar de dónde se pueden cargar recursos (como scripts, estilos e imágenes) en una página web. Esto ayuda a prevenir ataques de inyección de scripts, como ataques XSS (Cross-Site Scripting).\n",
    "\n",
    "Cross-Origin Resource Sharing (CORS): El encabezado CORS controla qué dominios externos pueden acceder a recursos en tu sitio web. Esto evita ataques de solicitud cruzada entre dominios y ayuda a proteger la privacidad del usuario.\n",
    "\n",
    "X-Content-Type-Options: Este encabezado ayuda a prevenir ataques de tipo MIME, asegurándose de que el navegador no interprete incorrectamente el tipo de contenido de los recursos.\n",
    "\n",
    "X-Frame-Options: Evita ataques de secuestro de clics o \"Clickjacking\" al evitar que un sitio web se cargue en un marco (iframe) no autorizado.\n",
    "\n",
    "X-XSS-Protection: Ayuda a proteger contra ataques XSS, ya que activa el filtro XSS incorporado en algunos navegadores.\n",
    "\n",
    "X-Content-Security-Policy: Este es un encabezado obsoleto y se ha reemplazado por CSP, pero se menciona aquí porque se usaba anteriormente para controlar la carga de contenido en una página.\n",
    "\n",
    "Referrer-Policy: Controla cómo se envía el encabezado \"Referer\" en las solicitudes HTTP. Puede ayudar a proteger la privacidad del usuario al limitar la información que se envía al servidor de destino.\n",
    "\n",
    "Estos encabezados son esenciales para proteger tu aplicación web y los datos de los usuarios. Debes configurarlos adecuadamente en el servidor para fortalecer la seguridad de tu aplicación y protegerla contra diversas amenazas. Ten en cuenta que la configuración de estos encabezados puede variar según el servidor web que estés utilizando."
   ]
  },
  {
   "cell_type": "markdown",
   "metadata": {},
   "source": [
    "# 404. Fetch API:\n",
    "\n",
    "El código de estado \"404\" es una respuesta común en HTTP que indica que el recurso solicitado no fue encontrado en el servidor. Cuando utilizas la Fetch API en JavaScript para hacer una solicitud a un recurso en un servidor y recibes una respuesta con el código de estado \"404\", significa que el servidor no pudo encontrar la página o recurso solicitado.\n",
    "\n",
    "Aquí hay un ejemplo de cómo usar la Fetch API para manejar una respuesta \"404\" en JavaScript:\n",
    "\n",
    "javascript\n",
    "Copy code\n",
    "fetch('https://ejemplo.com/recurso-no-existente')\n",
    "  .then(response => {\n",
    "    if (response.status === 404) {\n",
    "      console.log('El recurso no se encontró (404)');\n",
    "    } else {\n",
    "      console.log('La solicitud se completó con éxito');\n",
    "      // Puedes manejar la respuesta normalmente aquí\n",
    "    }\n",
    "  })\n",
    "  .catch(error => {\n",
    "    console.error('Ocurrió un error en la solicitud:', error);\n",
    "  });\n",
    "En este ejemplo, la función fetch se utiliza para hacer una solicitud a un recurso en \"https://ejemplo.com/recurso-no-existente\". Luego, se verifica el código de estado de la respuesta en la promesa then. Si el código de estado es \"404\", se muestra un mensaje indicando que el recurso no se encontró. Si la solicitud se completa con éxito, puedes manejar la respuesta en la sección \"else\". Si ocurre un error en la solicitud, se maneja en la función catch.\n",
    "\n",
    "El manejo de respuestas \"404\" es importante en el desarrollo web para informar al usuario que un recurso solicitado no está disponible y tomar las medidas adecuadas, como redirigir a una página de error personalizada o proporcionar un mensaje informativo."
   ]
  },
  {
   "cell_type": "markdown",
   "metadata": {},
   "source": [
    "# Atributos de ayuda en cookies seguridad web:\n",
    "\n",
    "Al trabajar con cookies en aplicaciones web, existen varios atributos de seguridad que puedes configurar para proteger la integridad de las cookies y la privacidad de los usuarios. Algunos de los atributos de seguridad importantes en las cookies son:\n",
    "\n",
    "Secure: El atributo \"Secure\" se utiliza para garantizar que la cookie solo se envíe a través de conexiones HTTPS seguras. Esto ayuda a proteger la información sensible, ya que las cookies enviadas a través de conexiones no seguras pueden ser interceptadas por atacantes.\n",
    "\n",
    "HttpOnly: Cuando se establece el atributo \"HttpOnly,\" la cookie solo es accesible a través de solicitudes HTTP y no se puede acceder mediante JavaScript. Esto protege contra ataques XSS (Cross-Site Scripting) que intentan robar cookies de sesión.\n",
    "\n",
    "SameSite: El atributo \"SameSite\" se utiliza para controlar cuándo se envía una cookie en una solicitud. Puede configurarse con tres valores: \"Strict,\" \"Lax\" y \"None.\" \"Strict\" significa que la cookie solo se enviará en solicitudes del mismo sitio. \"Lax\" es menos restrictivo y permite algunas excepciones. \"None\" permite que la cookie se envíe incluso en solicitudes cruzadas, pero debe usarse junto con el atributo \"Secure.\"\n",
    "\n",
    "Domain: El atributo \"Domain\" permite especificar el dominio al que pertenece la cookie. Esto puede ayudar a limitar a qué dominios se envía la cookie, lo que reduce el riesgo de que sea utilizada en ataques de solicitud cruzada.\n",
    "\n",
    "Path: El atributo \"Path\" especifica el camino del URL al que se aplica la cookie. Puede limitar el alcance de la cookie para que solo se envíe en solicitudes que coincidan con un cierto camino.\n",
    "\n",
    "Max-Age o Expires: Estos atributos controlan cuánto tiempo permanece activa una cookie. Configurar un tiempo de expiración adecuado ayuda a evitar que las cookies sean explotadas en ataques de suplantación de sesión.\n",
    "\n",
    "Prefixing: Prefijar los nombres de las cookies con una cadena específica puede ayudar a evitar colisiones de nombres de cookies y mejorar la seguridad.\n",
    "\n",
    "Version: La versión de la cookie puede utilizarse para indicar la versión de la especificación de cookies que estás utilizando. Esto puede ser útil para garantizar la compatibilidad y la seguridad de las cookies.\n",
    "\n",
    "Configurar adecuadamente estos atributos de seguridad en las cookies es esencial para proteger la seguridad y la privacidad de los usuarios en las aplicaciones web y mitigar amenazas como ataques XSS y la suplantación de sesión."
   ]
  },
  {
   "cell_type": "markdown",
   "metadata": {},
   "source": [
    "# Server sent events o usar websocked:\n",
    "\n",
    "La elección entre Server-Sent Events (SSE) y WebSockets depende de las necesidades específicas de tu aplicación y del tipo de comunicación en tiempo real que deseas establecer. Ambas tecnologías tienen sus ventajas y desventajas:\n",
    "\n",
    "Server-Sent Events (SSE):\n",
    "\n",
    "Unidireccional: SSE es una tecnología unidireccional, lo que significa que el servidor puede enviar datos al cliente, pero el cliente no puede enviar datos de vuelta al servidor utilizando la misma conexión.\n",
    "Sencillo de implementar: SSE es relativamente simple de implementar en comparación con WebSockets. Utiliza el evento EventSource en el lado del cliente para recibir actualizaciones del servidor.\n",
    "Eficiencia y bajo consumo de recursos: SSE es eficiente en términos de consumo de recursos, ya que mantiene una conexión abierta y solo envía actualizaciones cuando sea necesario.\n",
    "SSE es adecuado para casos en los que solo necesitas recibir actualizaciones desde el servidor y no requieres una comunicación bidireccional.\n",
    "\n",
    "WebSockets:\n",
    "\n",
    "Bidireccional: Los WebSockets admiten comunicación bidireccional, lo que significa que tanto el cliente como el servidor pueden enviar datos en cualquier momento a través de la misma conexión.\n",
    "Flexibilidad y variedad de casos de uso: WebSockets son más versátiles y adecuados para una amplia variedad de casos de uso, como juegos en línea, aplicaciones de chat en tiempo real, colaboración en tiempo real y más.\n",
    "Mayor complejidad de implementación: La implementación de WebSockets es más compleja en comparación con SSE, tanto en el lado del cliente como en el del servidor.\n",
    "Consumo de recursos más alto: WebSockets pueden consumir más recursos, ya que mantienen conexiones abiertas continuamente.\n",
    "Si necesitas una comunicación bidireccional y estás dispuesto a enfrentar la mayor complejidad de implementación, WebSockets puede ser la mejor opción. Por otro lado, si solo necesitas recibir actualizaciones desde el servidor y deseas una solución más sencilla, SSE puede ser adecuado. También puedes considerar otros factores, como la escalabilidad, la compatibilidad del servidor y la infraestructura existente al tomar tu decisión."
   ]
  },
  {
   "cell_type": "markdown",
   "metadata": {},
   "source": [
    "# Módulo que contiene funciones dedicadas a la serialización de objetos \n",
    "\n",
    "En Python, el módulo estándar que contiene funciones dedicadas a la serialización de objetos es el módulo pickle. El módulo pickle se utiliza para convertir objetos de Python en una representación binaria y viceversa, lo que permite almacenar objetos en archivos, transmitirlos a través de redes y más.\n",
    "\n",
    "Para serializar un objeto en Python utilizando pickle, puedes seguir estos pasos:\n",
    "\n",
    "Importar el módulo pickle:\n",
    "\n",
    "\n",
    "import pickle\n",
    "Serializar un objeto a un archivo:\n",
    "Para serializar un objeto y guardarlo en un archivo, puedes utilizar pickle.dump(objeto, archivo):\n",
    "\n",
    "\n",
    "objeto = {\"nombre\": \"Ejemplo\", \"edad\": 30}\n",
    "with open(\"datos.pkl\", \"wb\") as archivo:\n",
    "    pickle.dump(objeto, archivo)\n",
    "Deserializar un objeto desde un archivo:\n",
    "Para recuperar un objeto desde un archivo, puedes utilizar pickle.load(archivo):\n",
    "\n",
    "\n",
    "with open(\"datos.pkl\", \"rb\") as archivo:\n",
    "    objeto_recuperado = pickle.load(archivo)\n",
    "Ten en cuenta que pickle es muy útil para serializar objetos de Python, pero debes tener precaución al cargar datos de fuentes no confiables, ya que el módulo pickle puede ejecutar código malicioso si se carga un archivo pickle malicioso. Por lo tanto, evita cargar datos de fuentes no confiables y considera utilizar otros formatos de serialización, como JSON, para la comunicación entre sistemas si es necesario."
   ]
  },
  {
   "cell_type": "code",
   "execution_count": null,
   "metadata": {},
   "outputs": [],
   "source": []
  },
  {
   "cell_type": "code",
   "execution_count": null,
   "metadata": {},
   "outputs": [],
   "source": [
    "\n",
    "    "
   ]
  }
 ],
 "metadata": {
  "kernelspec": {
   "display_name": "python_ada",
   "language": "python",
   "name": "python3"
  },
  "language_info": {
   "codemirror_mode": {
    "name": "ipython",
    "version": 3
   },
   "file_extension": ".py",
   "mimetype": "text/x-python",
   "name": "python",
   "nbconvert_exporter": "python",
   "pygments_lexer": "ipython3",
   "version": "3.11.4"
  }
 },
 "nbformat": 4,
 "nbformat_minor": 2
}
