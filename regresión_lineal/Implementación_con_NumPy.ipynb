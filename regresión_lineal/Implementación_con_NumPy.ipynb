{
 "cells": [
  {
   "cell_type": "markdown",
   "metadata": {},
   "source": [
    "Podemos implementar la Regresión Lineal con NumPy aprovechando sus funciones vectorizadas."
   ]
  },
  {
   "cell_type": "code",
   "execution_count": null,
   "metadata": {},
   "outputs": [],
   "source": [
    "import numpy as np\n",
    "import plotly.graph_objects as go\n",
    "\n",
    "# Datos de ejemplo\n",
    "x = np.array([1, 2, 3, 4, 5])\n",
    "y = np.array([2, 4, 6, 8, 10])\n",
    "\n",
    "# Crear la matriz X con una columna de unos para el término de intersección\n",
    "X = np.column_stack((np.ones(len(x)), x))\n",
    "\n",
    "# Calcular los coeficientes de regresión utilizando la ecuación matricial\n",
    "beta = np.linalg.inv(X.T @ X) @ X.T @ y\n",
    "\n",
    "# Calcular los valores predichos\n",
    "y_pred = X @ beta\n",
    "\n",
    "# Graficar los datos y la línea de regresión\n",
    "fig = go.Figure()\n",
    "fig.add_trace(go.Scatter(x=x, y=y, mode='markers', name='Datos'))\n",
    "fig.add_trace(go.Scatter(x=x, y=y_pred, mode='lines', name='Regresión lineal'))\n",
    "fig.show()\n"
   ]
  },
  {
   "cell_type": "code",
   "execution_count": null,
   "metadata": {},
   "outputs": [],
   "source": []
  }
 ],
 "metadata": {
  "language_info": {
   "name": "python"
  }
 },
 "nbformat": 4,
 "nbformat_minor": 2
}
