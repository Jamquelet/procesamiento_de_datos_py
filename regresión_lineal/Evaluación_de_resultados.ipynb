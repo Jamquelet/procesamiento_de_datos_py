{
 "cells": [
  {
   "cell_type": "markdown",
   "metadata": {},
   "source": [
    "##### Evaluación de resultados\n",
    "\n",
    "Una vez que hemos entrenado un modelo de regresión lineal, es importante evaluar su rendimiento y analizar los resultados obtenidos, para esto podemos calcular:\n",
    "\n",
    "1.Error cuadrático medio (MSE): El MSE es una métrica comúnmente utilizada para evaluar la calidad del ajuste de un modelo de regresión lineal. Mide la diferencia promedio entre los valores predichos y los valores reales al cuadrado. Un MSE más bajo indica un mejor ajuste del modelo.\n",
    "\n",
    "2.Coeficiente de determinación (R²): El coeficiente de determinación, también conocido como R², proporciona una medida de qué tan bien se ajustan los datos al modelo de regresión lineal. R² varía entre 0 y 1, donde 1 indica un ajuste perfecto. R² representa la proporción de la variabilidad de la variable dependiente que es explicada por el modelo.\n",
    "\n",
    "3.Intervalos de confianza y p-valores: Los intervalos de confianza y los p-valores se utilizan para evaluar la significancia estadística de los coeficientes de regresión. Los intervalos de confianza nos indican el rango de valores dentro del cual es probable que se encuentre el coeficiente, mientras que los p-valores nos indican la probabilidad de que el coeficiente sea cero. Coeficientes con intervalos de confianza estrechos y p-valores bajos generalmente se consideran más significativos.\n",
    "\n",
    "4.Validación cruzada: La validación cruzada es una técnica utilizada para evaluar el rendimiento del modelo en datos no vistos. Divide el conjunto de datos en conjuntos de entrenamiento y prueba múltiples veces y calcula métricas de evaluación en cada división. Esto proporciona una estimación más confiable del rendimiento del modelo en datos nuevos y ayuda a evitar problemas de sobreajuste."
   ]
  },
  {
   "cell_type": "code",
   "execution_count": null,
   "metadata": {},
   "outputs": [],
   "source": [
    "#Asumiendo que ya tenemos el modelo ajustado, podemos calcular el error cuadrático medio y el coeficiente de correlación de la siguiente forma:\n",
    "\n",
    "from sklearn.metrics import mean_squared_error\n",
    "\n",
    "# Calcular las predicciones del modelo\n",
    "y_pred = regression.predict(X)\n",
    "\n",
    "mse = mean_squared_error(y, y_pred)\n",
    "print(\"Error cuadrático medio (MSE):\", mse)\n",
    "\n",
    "# Calcular el coeficiente de determinación (R²)\n",
    "r_squared = regression.score(X, y)\n",
    "print(\"Coeficiente de determinación (R²):\", r_squared)"
   ]
  },
  {
   "cell_type": "code",
   "execution_count": null,
   "metadata": {},
   "outputs": [],
   "source": [
    "\"\"\" Para el cálculo de los intérvalos de confianza y p-valores es más fácil hacerlo con la librería statsmodels la cual es muy similar a Sklearn y para los fines de este ejemplo introduciremos de forma rápida.\n",
    "\n",
    "Instálala con el comando: \"\"\"\n",
    "\n",
    "pip install statsmodels\n",
    "\n",
    "#Y la usamos de la siguiente manera:\n",
    "\n",
    "import statsmodels.api as sm\n",
    "\n",
    "# Cargando datos ...\n",
    "\n",
    "# Agregar una columna de unos para el término de intersección en el modelo de statsmodels\n",
    "X_with_intercept = sm.add_constant(X)\n",
    "\n",
    "# Crear un modelo de regresión lineal con statsmodels\n",
    "model = sm.OLS(y, X_with_intercept)\n",
    "\n",
    "# Ajustar el modelo a los datos\n",
    "results = model.fit()\n",
    "\n",
    "# Obtener los intervalos de confianza y los p-valores de los coeficientes\n",
    "confidence_intervals = results.conf_int()\n",
    "p_values = results.pvalues\n",
    "\n",
    "print(\"Intervalos de confianza:\")\n",
    "print(confidence_intervals)\n",
    "\n",
    "print(\"P-valores\")\n",
    "print(p_values)"
   ]
  },
  {
   "cell_type": "markdown",
   "metadata": {},
   "source": [
    "Los resultados obtenidos son:\n",
    "\n",
    "Error cuadrático medio (MSE): 3.908438434940709\n",
    "Coeficiente de determinación (R^2): 0.9768471041502093\n",
    "Intervalos de confianza:\n",
    "        0           1\n",
    "const  3.451696    58.536510\n",
    "X1     0.288992    1.433837\n",
    "X2     0.033538    0.636181\n",
    "\n",
    "P-valores\n",
    "const  0.031865\n",
    "X1     0.008440\n",
    "X2     0.033508"
   ]
  },
  {
   "cell_type": "markdown",
   "metadata": {},
   "source": [
    "Respecto a los intérvalos de confianza observamos que:\n",
    "\n",
    "const: El intervalo de confianza para el coeficiente constante indica que es probable que el valor real del coeficiente se encuentre entre 3.451696 y 58.536510. Esto implica que el término de intersección del modelo de regresión lineal puede variar ampliamente y no incluye el valor cero. Por lo tanto, el término de intersección es estadísticamente significativo y tiene un efecto en la variable dependiente.\n",
    "\n",
    "X1: El intervalo de confianza para el coeficiente de X1 (edad en años) indica que es probable que el valor real del coeficiente se encuentre entre 0.288992 y 1.433837. Esto implica que la edad tiene un efecto positivo en la presión sistólica y que el intervalo no contiene el valor cero. Por lo tanto, la variable edad es estadísticamente significativa y tiene un efecto significativo en la variable dependiente.\n",
    "\n",
    "X2: El intervalo de confianza para el coeficiente de X2 (peso en libras) indica que es probable que el valor real del coeficiente se encuentre entre 0.033538 y 0.636181. Esto implica que el peso tiene un efecto positivo en la presión sistólica y que el intervalo no contiene el valor cero. Por lo tanto, la variable peso es estadísticamente significativa y tiene un efecto significativo en la variable dependiente.\n",
    "\n",
    "y respecto a los p-valores:\n",
    "\n",
    "const: El p-valor asociado al coeficiente constante es 0.031865. Este p-valor indica que hay suficiente evidencia para rechazar la hipótesis nula de que el coeficiente constante es cero. En consecuencia, el término de intersección es estadísticamente significativo y tiene un efecto significativo en la variable dependiente.\n",
    "\n",
    "X1: El p-valor asociado al coeficiente de X1 (edad en años) es 0.008440. Este p-valor indica que hay suficiente evidencia para rechazar la hipótesis nula de que el coeficiente de X1 es cero. Por lo tanto, la variable edad es estadísticamente significativa y tiene un efecto significativo en la variable dependiente.\n",
    "\n",
    "X2: El p-valor asociado al coeficiente de X2 (peso en libras) es 0.033508. Este p-valor indica que hay suficiente evidencia para rechazar la hipótesis nula de que el coeficiente de X2 es cero. Por lo tanto, la variable peso es estadísticamente significativa y tiene un efecto significativo en la variable dependiente.\n",
    "\n",
    "En resumen, los resultados corregidos indican que tanto la edad como el peso son variables estadísticamente significativas y tienen un efecto significativo en la presión sistólica."
   ]
  },
  {
   "cell_type": "code",
   "execution_count": null,
   "metadata": {},
   "outputs": [],
   "source": []
  }
 ],
 "metadata": {
  "language_info": {
   "name": "python"
  }
 },
 "nbformat": 4,
 "nbformat_minor": 2
}
